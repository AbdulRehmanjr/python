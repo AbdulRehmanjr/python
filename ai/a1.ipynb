{
 "cells": [
  {
   "cell_type": "markdown",
   "metadata": {},
   "source": []
  },
  {
   "attachments": {},
   "cell_type": "markdown",
   "metadata": {},
   "source": [
    "Imagine there is a robot in room ‘A’ (initial state), and it needs to go to room ‘Z’ (goal state). We can draw a state space in terms of a tree if we consider all the possible movements of the robot in each room (node). For example, when the robot is at initial state A, he can either go to B or D. When the robot moved to the next state B, he can move to C, E, or back to A"
   ]
  },
  {
   "cell_type": "code",
   "execution_count": 2,
   "metadata": {},
   "outputs": [
    {
     "name": "stdout",
     "output_type": "stream",
     "text": [
      "6\n",
      "A -> B -> D -> C -> E -> F -> "
     ]
    }
   ],
   "source": [
    "graph={\n",
    "    'A':['B','D'],\n",
    "    'B':['A','C','E'],\n",
    "    'C':['B','F'],\n",
    "    'D':['A','E'],\n",
    "    'E':['B','D'],\n",
    "    'F':[]\n",
    "}\n",
    "visited =[]\n",
    "queue = []\n",
    "def BFS(visitgraph,startNode,goalNode):\n",
    "    queue.append(startNode)\n",
    "    visited.append(startNode)\n",
    "    while queue:\n",
    "        currentNode = queue.pop(0)\n",
    "        print(currentNode,end=\" -> \")\n",
    "        if currentNode == goalNode:\n",
    "            return\n",
    "        for childNode in visitgraph[currentNode]:\n",
    "            if childNode not in visited:\n",
    "                queue.append(childNode)\n",
    "                visited.append(childNode) \n",
    "print(len(graph))   \n",
    "BFS(graph,'A','F')"
   ]
  },
  {
   "cell_type": "code",
   "execution_count": 25,
   "metadata": {},
   "outputs": [
    {
     "name": "stdout",
     "output_type": "stream",
     "text": [
      "A->B->C->F->"
     ]
    }
   ],
   "source": [
    "graph={\n",
    "    'A':['B','D'],\n",
    "    'B':['A','C','E'],\n",
    "    'C':['B','F'],\n",
    "    'D':['A','E'],\n",
    "    'E':['B','D'],\n",
    "    'F':[]\n",
    "}\n",
    "visited = set()\n",
    "def DFS(visited, graph, node,goalNode):  \n",
    "    \n",
    "    if node not in visited:\n",
    "        print(node,end=\"->\")\n",
    "        visited.add(node)\n",
    "        for neighbour in graph[node]:\n",
    "            if goalNode in visited:\n",
    "                break\n",
    "            else:\n",
    "                DFS(visited, graph, neighbour,goalNode)\n",
    "DFS(visited,graph,'A','F')"
   ]
  },
  {
   "attachments": {},
   "cell_type": "markdown",
   "metadata": {},
   "source": [
    "UNIFORM COST SEARCH (one direction travel only)"
   ]
  },
  {
   "cell_type": "code",
   "execution_count": 5,
   "metadata": {},
   "outputs": [
    {
     "name": "stdout",
     "output_type": "stream",
     "text": [
      "min {'A': inf, 'B': inf, 'C': inf, 'D': inf, 'E': inf}\n",
      "A 5 C 3 D 10 B 7 D 17 E 10 B 7 D 6 E 6 A 18 B 14 C 9 E 16 A 9 C 11 D 10 A 18 B 14 C 9 E 16 pre {'A': 'E', 'C': 'E', 'D': 'C', 'B': 'A'}\n",
      "Shortest distance is 7\n",
      "And the path is ['E', 'A', 'B']\n"
     ]
    }
   ],
   "source": [
    "graph={\n",
    "    'A':{'B':2,'D':12,'E':5},\n",
    "    'B':{'A':2,'C':4,'D':3},\n",
    "    'C':{'B':4,'D':3,'E':3},\n",
    "    'D':{'A':12,'B':8,'C':3,'E':10},\n",
    "    'E':{'A':5,'C':3,'D':10}\n",
    "}\n",
    "def dijkstra(graph, startNode):\n",
    "    queue = [startNode]\n",
    "    minDistances = {v: float(\"inf\") for v in graph}\n",
    "    print('min',minDistances)\n",
    "    minDistances[startNode] = 0\n",
    "    predecessor = {}\n",
    "    while queue:\n",
    "        currentNode = queue.pop(0)\n",
    "        for childNode in graph[currentNode]:\n",
    "            print(childNode,end=\" \")\n",
    "            newDist = minDistances[currentNode] + graph[currentNode][childNode]\n",
    "            print(newDist,end=\" \")\n",
    "            if newDist < minDistances[childNode]:\n",
    "                minDistances[childNode] = min(newDist, minDistances[childNode])\n",
    "                queue.append(childNode)\n",
    "                predecessor[childNode] = currentNode\n",
    "    print('pre',predecessor)\n",
    "    return minDistances, predecessor\n",
    "\n",
    "def UCS(graph, startNode, goalNode):\n",
    "    minDistances, predecessor = dijkstra(graph, startNode)\n",
    "    \n",
    "    path = []\n",
    "    currentNode = goalNode\n",
    "    while currentNode != startNode:\n",
    "        if currentNode not in predecessor:\n",
    "            print(\"Path not reachable\")\n",
    "            break\n",
    "        else:\n",
    "            path.insert(0, currentNode)\n",
    "            currentNode = predecessor[currentNode]\n",
    "    path.insert(0, startNode)\n",
    "    \n",
    "    if goalNode in minDistances and minDistances[goalNode] != float(\"inf\"):\n",
    "        print('Shortest distance is ' + str(minDistances[goalNode]))\n",
    "        print('And the path is ' + str(path))\n",
    "        \n",
    "UCS(graph, 'E', 'B')"
   ]
  },
  {
   "attachments": {},
   "cell_type": "markdown",
   "metadata": {},
   "source": [
    "DEPTH LIMITED SEARCH"
   ]
  },
  {
   "cell_type": "code",
   "execution_count": 10,
   "metadata": {},
   "outputs": [
    {
     "name": "stdout",
     "output_type": "stream",
     "text": [
      "current A\n",
      "Current level--> 0\n",
      "current B\n",
      "Current level--> 1\n",
      "current A\n",
      "Current level--> 2\n",
      "current B\n",
      "Current level--> 3\n",
      "current D\n",
      "Current level--> 3\n",
      "current C\n",
      "Current level--> 2\n",
      "current B\n",
      "Current level--> 3\n",
      "current F\n",
      "Current level--> 3\n",
      "Path to goal node available\n",
      "Path ['A', 'B', 'C', 'F']\n"
     ]
    }
   ],
   "source": [
    "graph={\n",
    "    'A':['B','D'],\n",
    "    'B':['A','C','E'],\n",
    "    'C':['B','F'],\n",
    "    'D':['A','E'],\n",
    "    'E':['B','D'],\n",
    "    'F':[]\n",
    "}\n",
    "def DLS(start,goal,path,level,maxD):\n",
    "    print('current',start)\n",
    "    print('Current level-->',level)\n",
    "    path.append(start)\n",
    "    if start == goal:\n",
    "        return path\n",
    "    if level==maxD:\n",
    "        return False\n",
    "    for child in graph[start]:\n",
    "        if DLS(child,goal,path,level+1,maxD):\n",
    "            return path\n",
    "        path.pop()\n",
    "    return False\n",
    "start = 'A'\n",
    "goal = 'F'\n",
    "maxD = 3\n",
    "path = []\n",
    "res = DLS(start,goal,path,0,maxD)\n",
    "if(res):\n",
    "    print(\"Path to goal node available\")\n",
    "    print(\"Path\",path)\n",
    "else:\n",
    "    print(\"No path available for the goal node in given depth limit\")"
   ]
  }
 ],
 "metadata": {
  "kernelspec": {
   "display_name": "Python 3",
   "language": "python",
   "name": "python3"
  },
  "language_info": {
   "codemirror_mode": {
    "name": "ipython",
    "version": 3
   },
   "file_extension": ".py",
   "mimetype": "text/x-python",
   "name": "python",
   "nbconvert_exporter": "python",
   "pygments_lexer": "ipython3",
   "version": "3.11.1 (tags/v3.11.1:a7a450f, Dec  6 2022, 19:58:39) [MSC v.1934 64 bit (AMD64)]"
  },
  "orig_nbformat": 4,
  "vscode": {
   "interpreter": {
    "hash": "98f695c938581e5a1ca220556a862bb7bb81b179544d4b01b718a9c0b2a8c66a"
   }
  }
 },
 "nbformat": 4,
 "nbformat_minor": 2
}
