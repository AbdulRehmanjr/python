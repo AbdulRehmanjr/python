{
 "cells": [
  {
   "cell_type": "markdown",
   "id": "e4f5376f",
   "metadata": {},
   "source": [
    "# What is a Data Structure? \n",
    "       Organizing, managing and storing data is important as it enables easier access and efficient modifications. \n",
    "       Data Structures allows you to organize your data in such a way that enables you to store collections of data,\n",
    "       relate them and perform operations on them accordingly. \n",
    "\n",
    "#    Built-in Data Structures\n",
    "        List\n",
    "        Dictionary\n",
    "        Tuple\n",
    "        Sets\n",
    " #   User-Defined Data Structures\n",
    "        Arrays vs. List\n",
    "        Stack\n",
    "        Queue\n",
    "        Trees\n",
    "        Linked Lists\n",
    "        Graphs\n",
    "        HashMaps\n"
   ]
  },
  {
   "cell_type": "markdown",
   "id": "c35f4f81",
   "metadata": {},
   "source": [
    "# Lists\n",
    "\n",
    "Lists are used to store data of different data types in a sequential manner. There are addresses assigned to every element of the list, which is called as Index. The index value starts from 0 and goes on until the last element called the positive index. There is also negative indexing which starts from -1 enabling you to access elements from the last to first. Let us now understand lists better with the help of an example program."
   ]
  },
  {
   "cell_type": "markdown",
   "id": "1601ba93",
   "metadata": {},
   "source": [
    "# Creating a list\n",
    "\n",
    "    To create a list, you use the square brackets and add elements into it accordingly. \n",
    "    If you do not pass any elements inside the square brackets, you get an empty list as the output."
   ]
  },
  {
   "cell_type": "code",
   "execution_count": 3,
   "id": "f4de52c9",
   "metadata": {
    "collapsed": true
   },
   "outputs": [
    {
     "name": "stdout",
     "output_type": "stream",
     "text": [
      "[]\n",
      "[1, 2, 3, 'example', 3.132]\n"
     ]
    }
   ],
   "source": [
    "my_list = [] #create empty list\n",
    "print(my_list)\n",
    "my_list = [1, 2, 3, 'example', 3.132] #creating list with data\n",
    "print(my_list)"
   ]
  },
  {
   "cell_type": "markdown",
   "id": "ae8bfad7",
   "metadata": {},
   "source": [
    "# Adding Elements\n",
    "\n",
    "Adding the elements in the list can be achieved using the append(), extend() and insert() functions.\n",
    "\n",
    "    The append() function adds all the elements passed to it as a single element.\n",
    "    The extend() function adds the elements one-by-one into the list.\n",
    "    The insert() function adds the element passed to the index value and increase the size of the list too."
   ]
  },
  {
   "cell_type": "code",
   "execution_count": 10,
   "id": "cf3b5d03",
   "metadata": {
    "collapsed": true
   },
   "outputs": [
    {
     "name": "stdout",
     "output_type": "stream",
     "text": [
      "[1, 2, 3]\n",
      "3\n",
      "[1, 2, 3, [555, 12]]\n",
      "4\n",
      "[1, 2, 3, [555, 12], 234, 'more_example']\n",
      "6\n",
      "[1, 'insert_example', 2, 3, [555, 12], 234, 'more_example']\n",
      "7\n"
     ]
    }
   ],
   "source": [
    "my_list = [1, 2, 3]\n",
    "print(my_list)\n",
    "print (len(my_list))\n",
    "my_list.append([555, 12]) #add as a single element\n",
    "print(my_list)\n",
    "print (len(my_list))\n",
    "my_list.extend([234, 'more_example']) #add as different elements\n",
    "print(my_list)\n",
    "print (len(my_list))\n",
    "my_list.insert(1, 'insert_example') #add element i\n",
    "print(my_list)\n",
    "print (len(my_list))"
   ]
  },
  {
   "cell_type": "markdown",
   "id": "72c2397f",
   "metadata": {},
   "source": [
    "# Another way to find the size"
   ]
  },
  {
   "cell_type": "code",
   "execution_count": 11,
   "id": "7e25ffe1",
   "metadata": {
    "collapsed": true
   },
   "outputs": [
    {
     "name": "stdout",
     "output_type": "stream",
     "text": [
      "7\n"
     ]
    }
   ],
   "source": [
    "counter = 0\n",
    "for item in my_list:\n",
    " counter+=1\n",
    "print(counter)"
   ]
  },
  {
   "cell_type": "markdown",
   "id": "1a0d9d57",
   "metadata": {},
   "source": [
    "# Third Method"
   ]
  },
  {
   "cell_type": "code",
   "execution_count": 12,
   "id": "f44f07ed",
   "metadata": {
    "collapsed": true
   },
   "outputs": [
    {
     "name": "stdout",
     "output_type": "stream",
     "text": [
      "7\n"
     ]
    }
   ],
   "source": [
    "#Python operator module has in-built length_hint() function to calculate the total number of elements in the list.\n",
    "from operator import length_hint\n",
    "print(length_hint(my_list))"
   ]
  },
  {
   "cell_type": "markdown",
   "id": "d6c33ed3",
   "metadata": {},
   "source": [
    "# Deleting Elements\n",
    "\n",
    "    To delete elements, use the del keyword which is built-in into Python but this does not return anything back to us.\n",
    "    If you want the element back, you use the pop() function which takes the index value.\n",
    "    To remove an element by its value, you use the remove() function."
   ]
  },
  {
   "cell_type": "code",
   "execution_count": 20,
   "id": "e514597e",
   "metadata": {
    "collapsed": true
   },
   "outputs": [
    {
     "name": "stdout",
     "output_type": "stream",
     "text": [
      "[1, 2, 3, 'example', 3.132, 10, 30]\n",
      "\n",
      "[1, 2, 3, 'example', 3.132, 30]\n",
      "\n",
      "[1, 2, 3, 3.132, 30]\n",
      "\n",
      "[1, 3, 3.132, 30]\n",
      "Popped Element:  3  List remaining:  [1, 3.132, 30]\n",
      "\n",
      "[]\n"
     ]
    }
   ],
   "source": [
    "my_list = [1, 2, 3, 'example', 3.132, 10, 30]\n",
    "print(my_list)\n",
    "print()\n",
    "del my_list[5] #delete element at index 5\n",
    "print(my_list)\n",
    "print()\n",
    "my_list.remove('example') #remove element with value\n",
    "print(my_list)\n",
    "print()\n",
    "#my_list.remove('example')\n",
    "my_list.remove(2) # removing integer value\n",
    "print(my_list)\n",
    "a = my_list.pop(1) #pop element from list\n",
    "print('Popped Element: ', a, ' List remaining: ', my_list)\n",
    "my_list.clear() #empty the list\n",
    "print()\n",
    "print(my_list)"
   ]
  },
  {
   "cell_type": "markdown",
   "id": "79304863",
   "metadata": {},
   "source": [
    "# Accessing Elements\n",
    "\n",
    "Accessing elements is the same as accessing Strings in Python. You pass the index values and hence can obtain the values as needed."
   ]
  },
  {
   "cell_type": "code",
   "execution_count": 40,
   "id": "993ba752",
   "metadata": {
    "collapsed": true
   },
   "outputs": [
    {
     "name": "stdout",
     "output_type": "stream",
     "text": [
      "1\n",
      "2\n",
      "3\n",
      "example\n",
      "3.132\n",
      "10\n",
      "30\n",
      "\n",
      "[1, 2, 3, 'example', 3.132, 10, 30]\n",
      "\n",
      "example\n",
      "\n",
      "[1, 2]\n",
      "\n",
      "[30, 10, 3.132, 'example', 3, 2, 1]\n"
     ]
    }
   ],
   "source": [
    "my_list=[1, 2, 3, 'example', 3.132, 10, 30]\n",
    "for element in my_list:\n",
    "    print(element)\n",
    "print()\n",
    "print(my_list) ##access all elements\n",
    "print()\n",
    "print(my_list[3]) #access index 3 element\n",
    "print()\n",
    "print(my_list[0:2]) #access elements from 0 to 1 and exclude 2\n",
    "print()\n",
    "print(my_list[::-1]) #access elements in reverse"
   ]
  },
  {
   "cell_type": "markdown",
   "id": "115a41c3",
   "metadata": {},
   "source": [
    "# Other Functions\n",
    "\n",
    "You have several other functions that can be used when working with lists.\n",
    "\n",
    "    The len() function returns to us the length of the list.\n",
    "    The index() function finds the index value of value passed where it has been encountered the first time.\n",
    "    The count() function finds the count of the value passed to it.\n",
    "    The sorted() and sort() functions do the same thing, that is to sort the values of the list. The sorted() has a return type whereas the sort() modifies the original list."
   ]
  },
  {
   "cell_type": "code",
   "execution_count": 41,
   "id": "11600d2e",
   "metadata": {
    "collapsed": true
   },
   "outputs": [
    {
     "name": "stdout",
     "output_type": "stream",
     "text": [
      "6\n",
      "3\n",
      "2\n",
      "[1, 2, 3, 10, 10, 30]\n",
      "[30, 10, 10, 3, 2, 1]\n"
     ]
    }
   ],
   "source": [
    "my_list = [1, 2, 3, 10, 30, 10]\n",
    "print(len(my_list)) #find length of list\n",
    "print(my_list.index(10)) #find index of element that occurs first\n",
    "print(my_list.count(10)) #find count of the element\n",
    "print(sorted(my_list)) #print sorted list but not change original\n",
    "my_list.sort(reverse=True) #sort original list\n",
    "print(my_list)"
   ]
  },
  {
   "cell_type": "markdown",
   "id": "6f564125",
   "metadata": {},
   "source": [
    "# Dictionary\n",
    "\n",
    "Dictionaries are used to store key-value pairs. To understand better, think of a phone directory where hundreds and thousands of names and their corresponding numbers have been added. Now the constant values here are Name and the Phone Numbers which are called as the keys. And the various names and phone numbers are the values that have been fed to the keys. If you access the values of the keys, you will obtain all the names and phone numbers. So that is what a key-value pair is. And in Python, this structure is stored using Dictionaries. Let us understand this better with an example program."
   ]
  },
  {
   "cell_type": "markdown",
   "id": "068a680b",
   "metadata": {},
   "source": [
    "# Creating a Dictionary\n",
    "\n",
    "     Dictionaries can be created using the flower braces or using the dict() function. You need to add the key-value pairs whenever you work with dictionaries."
   ]
  },
  {
   "cell_type": "code",
   "execution_count": 43,
   "id": "84e89c48",
   "metadata": {
    "collapsed": true
   },
   "outputs": [
    {
     "name": "stdout",
     "output_type": "stream",
     "text": [
      "{}\n",
      "\n",
      "{1: 'Python', 2: 'Java'}\n"
     ]
    }
   ],
   "source": [
    "my_dict = {} #empty dictionary\n",
    "print(my_dict)\n",
    "print()\n",
    "my_dict = {1: 'Python', 2: 'Java'} #dictionary with elements\n",
    "print(my_dict)"
   ]
  },
  {
   "cell_type": "markdown",
   "id": "8afb723d",
   "metadata": {},
   "source": [
    "# Changing and Adding key, value pairs\n",
    "\n",
    "To change the values of the dictionary, you need to do that using the keys. So, you firstly access the key and then change the value accordingly. To add values, you simply just add another key-value pair as shown below."
   ]
  },
  {
   "cell_type": "code",
   "execution_count": 44,
   "id": "9527782c",
   "metadata": {
    "collapsed": true
   },
   "outputs": [
    {
     "name": "stdout",
     "output_type": "stream",
     "text": [
      "{'First': 'Python', 'Second': 'Java'}\n",
      "{'First': 'Python', 'Second': 'C++'}\n",
      "{'First': 'Python', 'Second': 'C++', 'Third': 'Ruby'}\n"
     ]
    }
   ],
   "source": [
    "my_dict = {'First': 'Python', 'Second': 'Java'}\n",
    "print(my_dict)\n",
    "my_dict['Second'] = 'C++' #changing element\n",
    "print(my_dict)\n",
    "my_dict['Third'] = 'Ruby' #adding key-value pair\n",
    "print(my_dict)"
   ]
  },
  {
   "cell_type": "markdown",
   "id": "0c73ccf9",
   "metadata": {},
   "source": [
    "# Deleting key, value pairs\n",
    "\n",
    "    To delete the values, you use the pop() function which returns the value that has been deleted.\n",
    "    To retrieve the key-value pair, you use the popitem() function which returns a tuple of the key and value.\n",
    "    To clear the entire dictionary, you use the clear() function."
   ]
  },
  {
   "cell_type": "code",
   "execution_count": 45,
   "id": "a5ca21bf",
   "metadata": {
    "collapsed": true
   },
   "outputs": [
    {
     "name": "stdout",
     "output_type": "stream",
     "text": [
      "Value: Ruby\n",
      "Dictionary: {'First': 'Python', 'Second': 'Java'}\n",
      "Key, value pair: ('Second', 'Java')\n",
      "Dictionary {'First': 'Python'}\n",
      "n {}\n"
     ]
    }
   ],
   "source": [
    "my_dict = {'First': 'Python', 'Second': 'Java', 'Third': 'Ruby'}\n",
    "a = my_dict.pop('Third') #pop element\n",
    "print('Value:', a)\n",
    "print('Dictionary:', my_dict)\n",
    "b = my_dict.popitem() #pop the key-value pair\n",
    "print('Key, value pair:', b)\n",
    "print('Dictionary', my_dict)\n",
    "my_dict.clear() #empty dictionary\n",
    "print('n', my_dict)"
   ]
  },
  {
   "cell_type": "markdown",
   "id": "ee76cd90",
   "metadata": {},
   "source": [
    "# Accessing Elements\n",
    "\n",
    "You can access elements using the keys only. You can use either the get() function or just pass the key values and you will be retrieving the values."
   ]
  },
  {
   "cell_type": "code",
   "execution_count": null,
   "id": "24a87cd7",
   "metadata": {
    "collapsed": true
   },
   "outputs": [],
   "source": [
    "my_dict = {'First': 'Python', 'Second': 'Java'}\n",
    "print(my_dict['First']) #access elements using keys\n",
    "print(my_dict.get('Second'))"
   ]
  },
  {
   "cell_type": "markdown",
   "id": "044a8409",
   "metadata": {},
   "source": [
    "# Other Functions\n",
    "\n",
    "You have different functions which return to us the keys or the values of the key-value pair accordingly to the keys(), values(), items() functions accordingly."
   ]
  },
  {
   "cell_type": "code",
   "execution_count": 46,
   "id": "3badeb2d",
   "metadata": {
    "collapsed": true
   },
   "outputs": [
    {
     "name": "stdout",
     "output_type": "stream",
     "text": [
      "dict_keys(['First', 'Second', 'Third'])\n",
      "dict_values(['Python', 'Java', 'Ruby'])\n",
      "dict_items([('First', 'Python'), ('Second', 'Java'), ('Third', 'Ruby')])\n",
      "Python\n"
     ]
    }
   ],
   "source": [
    "my_dict = {'First': 'Python', 'Second': 'Java', 'Third': 'Ruby'}\n",
    "print(my_dict.keys()) #get keys\n",
    "print(my_dict.values()) #get values\n",
    "print(my_dict.items()) #get key-value pairs\n",
    "print(my_dict.get('First'))"
   ]
  },
  {
   "cell_type": "markdown",
   "id": "e1972b21",
   "metadata": {},
   "source": [
    "# Tuple\n",
    "\n",
    "Tuples are the same as lists are with the exception that the data once entered into the tuple cannot be changed no matter what. The only exception is when the data inside the tuple is mutable, only then the tuple data can be changed. The example program will help you understand better."
   ]
  },
  {
   "cell_type": "markdown",
   "id": "ca726095",
   "metadata": {},
   "source": [
    "# Creating a Tuple\n",
    "\n",
    "You create a tuple using parenthesis or using the tuple() function."
   ]
  },
  {
   "cell_type": "code",
   "execution_count": 47,
   "id": "67040bcc",
   "metadata": {
    "collapsed": true
   },
   "outputs": [
    {
     "name": "stdout",
     "output_type": "stream",
     "text": [
      "(1, 2, 3)\n"
     ]
    }
   ],
   "source": [
    "my_tuple = (1, 2, 3) #create tuple\n",
    "print(my_tuple) "
   ]
  },
  {
   "cell_type": "markdown",
   "id": "8966200e",
   "metadata": {},
   "source": [
    "# Accessing Elements\n",
    "\n",
    "Accessing elements is the same as it is for accessing values in lists."
   ]
  },
  {
   "cell_type": "code",
   "execution_count": 56,
   "id": "315a5284",
   "metadata": {
    "collapsed": true
   },
   "outputs": [
    {
     "name": "stdout",
     "output_type": "stream",
     "text": [
      "1\n",
      "2\n",
      "3\n",
      "example\n",
      "(1, 2, 3, 'example')\n",
      "1\n",
      "p\n",
      "(1, 2, 3, 'example')\n"
     ]
    }
   ],
   "source": [
    "my_tuples2=(1,2,3, 'example')\n",
    "for x in my_tuples2:\n",
    "    print(x)\n",
    "print(my_tuples2)\n",
    "print(my_tuples2[0])\n",
    "print(my_tuples2[3][4])\n",
    "print(my_tuples2[:])"
   ]
  },
  {
   "cell_type": "markdown",
   "id": "ed707441",
   "metadata": {},
   "source": [
    "# Appending Elements\n",
    "\n",
    "To append the values, you use the ‘+’ operator which will take another tuple to be appended to it."
   ]
  },
  {
   "cell_type": "code",
   "execution_count": 57,
   "id": "5fc1e491",
   "metadata": {
    "collapsed": true
   },
   "outputs": [
    {
     "name": "stdout",
     "output_type": "stream",
     "text": [
      "(1, 2, 3, 4, 5, 6)\n"
     ]
    }
   ],
   "source": [
    "my_tuple = (1, 2, 3)\n",
    "my_tuple = my_tuple + (4, 5, 6) #add elements\n",
    "print(my_tuple)"
   ]
  },
  {
   "cell_type": "markdown",
   "id": "5e2ae8e2",
   "metadata": {},
   "source": [
    "# Other Functions\n",
    "\n",
    "These functions are the same as they are for lists."
   ]
  },
  {
   "cell_type": "code",
   "execution_count": 58,
   "id": "776ca714",
   "metadata": {
    "collapsed": true
   },
   "outputs": [
    {
     "name": "stdout",
     "output_type": "stream",
     "text": [
      "(1, 2, 3, ['english', 'python'])\n",
      "1\n",
      "3\n"
     ]
    }
   ],
   "source": [
    "my_tuple = (1, 2, 3, ['Java', 'python'])\n",
    "my_tuple[3][0] = 'english'\n",
    "print(my_tuple)\n",
    "print(my_tuple.count(2))\n",
    "print(my_tuple.index(['english', 'python']))"
   ]
  },
  {
   "cell_type": "markdown",
   "id": "c2f5787a",
   "metadata": {},
   "source": [
    "# HomeWork: Sets, User Defined DS (Array, Stack, Queue, Trees, Linked list, Graph, HashMap)"
   ]
  },
  {
   "cell_type": "markdown",
   "id": "d71bc8a1",
   "metadata": {},
   "source": [
    "# Graph\n",
    "Graphs are networks consisting of nodes connected by edges or arcs. In directed graphs, the connections between nodes have a direction, and are called arcs; in undirected graphs, the connections have no direction and are called edges. We mainly discuss directed graphs. Algorithms in graphs include finding a path between two nodes, finding the shortest path between two nodes, determining cycles in the graph (a cycle is a non-empty path from a node to itself), finding a path that reaches all nodes (the famous \"traveling salesman problem\"), and so on. Sometimes the nodes or arcs of a graph have weights or costs associated with them, and we are interested in finding the cheapest path."
   ]
  },
  {
   "cell_type": "markdown",
   "id": "13fb4d53",
   "metadata": {},
   "source": [
    "# Graph Arcs (6 Nodes and 8 arcs)\n",
    "    A -> B\n",
    "    A -> C\n",
    "    B -> C\n",
    "    B -> D\n",
    "    C -> D\n",
    "    D -> C\n",
    "    E -> F\n",
    "    F -> C"
   ]
  },
  {
   "cell_type": "markdown",
   "id": "34c02f1e",
   "metadata": {},
   "source": [
    "# Dictionary to create a Graph"
   ]
  },
  {
   "cell_type": "code",
   "execution_count": 2,
   "id": "55f139c3",
   "metadata": {},
   "outputs": [
    {
     "data": {
      "text/plain": [
       "{'A': ['B', 'C'],\n",
       " 'B': ['C', 'D'],\n",
       " 'C': ['D'],\n",
       " 'D': ['C'],\n",
       " 'E': ['F'],\n",
       " 'F': ['C']}"
      ]
     },
     "execution_count": 2,
     "metadata": {},
     "output_type": "execute_result"
    }
   ],
   "source": [
    "#This is a dictionary whose keys are the nodes of the graph. \n",
    "#For each key, the corresponding value is a list containing the nodes \n",
    "#that are connected by a direct arc from this node. \n",
    "\n",
    "graph= {'A': ['B', 'C'],\n",
    "        'B': ['C', 'D'],\n",
    "        'C': ['D'],\n",
    "        'D': ['C'],\n",
    "        'E': ['F'],\n",
    "        'F': ['C']\n",
    "       }\n",
    "graph"
   ]
  },
  {
   "cell_type": "code",
   "execution_count": 66,
   "id": "439dddf8",
   "metadata": {},
   "outputs": [
    {
     "name": "stdout",
     "output_type": "stream",
     "text": [
      "{'A': ['B', 'C'], 'B': ['C', 'D'], 'C': ['D'], 'D': ['C'], 'E': ['F'], 'F': ['C']}\n"
     ]
    }
   ],
   "source": [
    "print(graph)"
   ]
  },
  {
   "cell_type": "code",
   "execution_count": null,
   "id": "2d7bec5d",
   "metadata": {},
   "outputs": [],
   "source": []
  },
  {
   "cell_type": "markdown",
   "id": "f56e3f0d",
   "metadata": {},
   "source": [
    "# Implementation of BFS"
   ]
  },
  {
   "cell_type": "code",
   "execution_count": 8,
   "id": "b356adc5",
   "metadata": {},
   "outputs": [
    {
     "name": "stdout",
     "output_type": "stream",
     "text": [
      "{'5': ['3', '7'], '3': ['2', '4'], '7': ['8'], '2': [], '4': ['8'], '8': []}\n",
      "Following is the Breadth-First Search\n",
      "5 -> 3 -> 7 -> 2 -> 4 -> 8 -> "
     ]
    }
   ],
   "source": [
    "graph = {\n",
    "  '5' : ['3','7'],\n",
    "  '3' : ['2', '4'],\n",
    "  '7' : ['8'],\n",
    "  '2' : [],\n",
    "  '4' : ['8'],\n",
    "  '8' : []\n",
    "}\n",
    "\n",
    "print(graph)\n",
    "visited = [] # List for visited nodes.\n",
    "queue = []     #Initialize a queue\n",
    "\n",
    "def bfs(visited, graph, node): #function for BFS\n",
    "  queue.append(node)   # Mark the source node as visited and enqueue it\n",
    "  visited.append(node)  \n",
    "  #queue.append(node)\n",
    "\n",
    "  while queue:          # Creating loop to visit each node (while queue is not empty),Dequeue a vertex from queue and print it\n",
    "    m = queue.pop(0) \n",
    "    print (m,\"->\", end = \" \") \n",
    "            # Get all adjacent vertices of the dequeued vertex m.\n",
    "            #If a adjacent has not been visited, then mark it visited and enqueue it\n",
    "    for neighbour in graph[m]:\n",
    "      if neighbour not in visited:\n",
    "        visited.append(neighbour)\n",
    "        queue.append(neighbour)\n",
    "\n",
    "# Driver Code\n",
    "print(\"Following is the Breadth-First Search\")\n",
    "bfs(visited, graph, '5')    # function calling"
   ]
  },
  {
   "cell_type": "markdown",
   "id": "4b559678",
   "metadata": {},
   "source": [
    "# Another Example"
   ]
  },
  {
   "cell_type": "code",
   "execution_count": 64,
   "id": "5c639abf",
   "metadata": {},
   "outputs": [
    {
     "name": "stdout",
     "output_type": "stream",
     "text": [
      "A B C D E F "
     ]
    }
   ],
   "source": [
    "graph = {\n",
    "  'A' : ['B','C'],\n",
    "  'B' : ['D', 'E'],\n",
    "  'C' : ['F'],\n",
    "  'D' : [],\n",
    "  'E' : ['F'],\n",
    "  'F' : []\n",
    "}\n",
    "\n",
    "visited = [] # List to keep track of visited nodes.\n",
    "queue = []     #Initialize a queue\n",
    "\n",
    "def bfs(visited, graph, node):\n",
    "  visited.append(node)\n",
    "  queue.append(node)\n",
    "\n",
    "  while queue:   #Dequeue a vertex from queue and print it\n",
    "    s = queue.pop(0) \n",
    "    print (s, end = \" \") \n",
    "\n",
    "    for neighbour in graph[s]:\n",
    "      if neighbour not in visited:\n",
    "        visited.append(neighbour)\n",
    "        queue.append(neighbour)\n",
    "\n",
    "# Driver Code\n",
    "bfs(visited, graph, 'A')"
   ]
  },
  {
   "cell_type": "markdown",
   "id": "b0ef04d4",
   "metadata": {},
   "source": [
    "# Code Explanation\n",
    "In the above code, first, \n",
    "we will create the graph for which we will use the breadth-first search. \n",
    "After creation, we will create two lists, one to store the visited node of the graph and another one for storing the nodes in the queue.\n",
    "\n",
    "After the above process, we will declare a function with the parameters as visited nodes, the graph itself and the node respectively. And inside a function, we will keep appending the visited and queue lists.\n",
    "\n",
    "Then we will run the while loop for the queue for visiting the nodes and then will remove the same node and print it as it is visited.\n",
    "\n",
    "At last, we will run the for loop to check the not visited nodes and then append the same from the visited and queue list.\n",
    "\n",
    "As the driver code, we will call the user to define the bfs function with the first node we wish to visit."
   ]
  },
  {
   "cell_type": "markdown",
   "id": "25496d06",
   "metadata": {},
   "source": [
    "# Another Method without Goal"
   ]
  },
  {
   "cell_type": "code",
   "execution_count": 69,
   "id": "c52d11ab",
   "metadata": {},
   "outputs": [
    {
     "name": "stdout",
     "output_type": "stream",
     "text": [
      "A\n",
      "B\n",
      "C\n",
      "D\n",
      "E\n",
      "F\n",
      "G\n"
     ]
    }
   ],
   "source": [
    "graph = {\n",
    " 'A' : ['B','C'],\n",
    " 'B' : ['D', 'E'],\n",
    " 'C' : ['F', 'G'],\n",
    " 'D' : [],\n",
    " 'E' : [],\n",
    " 'F' : [],\n",
    " 'G' : []\n",
    "}\n",
    "visited = [] \n",
    "queue = []\n",
    "#goal = 'F'\n",
    "def bfs(visited, graph, node):\n",
    "    visited.append(node)\n",
    "    queue.append(node)\n",
    "    while queue:\n",
    "        s = queue.pop(0) \n",
    "        print (s, end = \"\\n\") \n",
    "        for neighbour in graph[s]:\n",
    "            if neighbour not in visited:\n",
    "                visited.append(neighbour)\n",
    "                queue.append(neighbour)\n",
    "                \n",
    "bfs(visited, graph, 'A')"
   ]
  },
  {
   "cell_type": "markdown",
   "id": "45e7b9bc",
   "metadata": {},
   "source": [
    "# Example with Goal"
   ]
  },
  {
   "cell_type": "code",
   "execution_count": 63,
   "id": "1253c60d",
   "metadata": {},
   "outputs": [
    {
     "name": "stdout",
     "output_type": "stream",
     "text": [
      "A\n",
      "B\n",
      "C\n",
      "D\n",
      "E\n",
      "F\n"
     ]
    }
   ],
   "source": [
    "graph = {\n",
    " 'A' : ['B','C'],\n",
    " 'B' : ['D', 'E'],\n",
    " 'C' : ['F', 'G'],\n",
    " 'D' : [],\n",
    " 'E' : [],\n",
    " 'F' : [],\n",
    " 'G' : []\n",
    "}\n",
    "visited = [] \n",
    "queue = []\n",
    "goal = 'F'\n",
    "def bfs(visited, graph, node):\n",
    "    visited.append(node)\n",
    "    queue.append(node)\n",
    "    while queue:\n",
    "        s = queue.pop(0) \n",
    "        print (s, end = \"\\n\") \n",
    "        for neighbour in graph[s]:\n",
    "            if neighbour not in visited:\n",
    "                visited.append(neighbour)\n",
    "                queue.append(neighbour)\n",
    "                if goal in visited:\n",
    "                    break\n",
    "bfs(visited, graph, 'A')"
   ]
  },
  {
   "cell_type": "markdown",
   "id": "921fca80",
   "metadata": {},
   "source": [
    "# DFS Implementation"
   ]
  },
  {
   "attachments": {
    "image.png": {
     "image/png": "[encoded data removed]"
    }
   },
   "cell_type": "markdown",
   "id": "fb3a5e03",
   "metadata": {},
   "source": [
    "![image.png](attachment:image.png)"
   ]
  },
  {
   "cell_type": "code",
   "execution_count": 81,
   "id": "60f8ebb0",
   "metadata": {},
   "outputs": [
    {
     "name": "stdout",
     "output_type": "stream",
     "text": [
      "{'5': ['3', '7'], '3': ['2', '4'], '7': ['8'], '2': [], '4': ['8'], '8': []}\n",
      "\n",
      "Following is the Depth-First Search\n",
      "5\n",
      "3\n",
      "2\n",
      "4\n",
      "8\n",
      "7\n"
     ]
    }
   ],
   "source": [
    "# Using a Python dictionary to act as an adjacency list\n",
    "graph = {\n",
    "  '5' : ['3','7'],\n",
    "  '3' : ['2', '4'],\n",
    "  '7' : ['8'],\n",
    "  '2' : [],\n",
    "  '4' : ['8'],\n",
    "  '8' : []\n",
    "}\n",
    "print(graph)\n",
    "print()\n",
    "visited = set() # Set to keep track of visited nodes of graph.\n",
    "\n",
    "def dfs(visited, graph, node):  #function for dfs \n",
    "    if node not in visited:\n",
    "        print (node)\n",
    "        visited.add(node)\n",
    "        for neighbour in graph[node]:\n",
    "            return dfs(visited, graph, neighbour)\n",
    "\n",
    "# Driver Code\n",
    "print(\"Following is the Depth-First Search\")\n",
    "dfs(visited, graph, '5')"
   ]
  },
  {
   "cell_type": "markdown",
   "id": "867b298d",
   "metadata": {},
   "source": [
    "# Code Explanation\n",
    "In the above code, first, we will create the graph for which we will use the depth-first search. After creation, we will create a set for storing the value of the visited nodes to keep track of the visited nodes of the graph.\n",
    "\n",
    "After the above process, we will declare a function with the parameters as visited nodes, the graph itself and the node respectively. And inside the function, we will check whether any node of the graph is visited or not using the “if” condition. If not, then we will print the node and add it to the visited set of nodes.\n",
    "\n",
    "Then we will go to the neighboring node of the graph and again call the DFS function to use the neighbor parameter.\n",
    "\n",
    "At last, we will run the driver code which prints the final result of DFS by calling the DFS the first time with the starting vertex of the graph."
   ]
  },
  {
   "cell_type": "markdown",
   "id": "267f9730",
   "metadata": {},
   "source": [
    "# Another Example"
   ]
  },
  {
   "cell_type": "code",
   "execution_count": 82,
   "id": "2c2c155e",
   "metadata": {},
   "outputs": [
    {
     "name": "stdout",
     "output_type": "stream",
     "text": [
      "{'A': ['B', 'C'], 'B': ['D', 'E'], 'C': ['F', 'G'], 'D': [], 'E': [], 'F': [], 'G': []}\n",
      "\n",
      "A\n",
      "B\n",
      "D\n",
      "E\n",
      "C\n",
      "F\n"
     ]
    }
   ],
   "source": [
    "graph = {\n",
    " 'A' : ['B','C'],\n",
    " 'B' : ['D', 'E'],\n",
    " 'C' : ['F', 'G'],\n",
    " 'D' : [],\n",
    " 'E' : [],\n",
    " 'F' : [],\n",
    " 'G' : []\n",
    "}\n",
    "print(graph)\n",
    "print()\n",
    "goal = 'F'\n",
    "visited = set() \n",
    "def dfs(visited, graph, node):\n",
    "    if node not in visited:\n",
    "        print (node)\n",
    "        visited.add(node)\n",
    "        for neighbour in graph[node]:\n",
    "            if goal in visited:\n",
    "                break\n",
    "            else:\n",
    "                dfs(visited, graph, neighbour)\n",
    "dfs(visited, graph, 'A')"
   ]
  },
  {
   "cell_type": "markdown",
   "id": "66f4275a",
   "metadata": {},
   "source": [
    "# Implementation of Depth Limited Search"
   ]
  },
  {
   "cell_type": "code",
   "execution_count": 84,
   "id": "8b6870a8",
   "metadata": {},
   "outputs": [
    {
     "name": "stdout",
     "output_type": "stream",
     "text": [
      "Enter the goal node:-c\n",
      "Enter the maximum depth limit:-1\n",
      "\n",
      "nCurrent level--> 0\n",
      "Goal node testing failed\n",
      "nExpanding the current node A\n",
      "nCurrent level--> 1\n",
      "Goal node testing failed\n",
      "nCurrent level--> 1\n",
      "Goal node testing failed\n",
      "No path available for the goal node in given depth limit\n"
     ]
    }
   ],
   "source": [
    "graph = {\n",
    " 'A' : ['B','C'],\n",
    " 'B' : ['D', 'E'],\n",
    " 'C' : ['F', 'G'],\n",
    " 'D' : [],\n",
    " 'E' : [],\n",
    " 'F' : [],\n",
    " 'G' : []\n",
    "}\n",
    "def DLS(start,goal,path,level,maxD):\n",
    "    print('nCurrent level-->',level)\n",
    "    path.append(start)\n",
    "    if start == goal:\n",
    "        print(\"Goal test successful\")\n",
    "        return path\n",
    "    print('Goal node testing failed')\n",
    "    if level==maxD:\n",
    "        return False\n",
    "    print('nExpanding the current node',start)\n",
    "    for child in graph[start]:\n",
    "        if DLS(child,goal,path,level+1,maxD):\n",
    "            return path\n",
    "        path.pop()\n",
    "    return False\n",
    "start = 'A'\n",
    "goal = input('Enter the goal node:-')\n",
    "maxD = int(input(\"Enter the maximum depth limit:-\"))\n",
    "print()\n",
    "path = list()\n",
    "res = DLS(start,goal,path,0,maxD)\n",
    "if(res):\n",
    "    print(\"Path to goal node available\")\n",
    "    print(\"Path\",path)\n",
    "else:\n",
    "    print(\"No path available for the goal node in given depth limit\")\n",
    "\n",
    "    \n",
    "#When we give C as goal node and 1 as limit the path will be as follows."
   ]
  },
  {
   "cell_type": "markdown",
   "id": "18c6ea39",
   "metadata": {},
   "source": [
    "# Iterative deeping depth first search"
   ]
  },
  {
   "cell_type": "code",
   "execution_count": 85,
   "id": "69715123",
   "metadata": {},
   "outputs": [
    {
     "name": "stdout",
     "output_type": "stream",
     "text": [
      "Path exists\n",
      "['A', 'B', 'E']\n"
     ]
    }
   ],
   "source": [
    "graph = {\n",
    " 'A' : ['B','C'],\n",
    " 'B' : ['D', 'E'],\n",
    " 'C' : ['F', 'G'],\n",
    " 'D' : [],\n",
    " 'E' : [],\n",
    " 'F' : [],\n",
    " 'G' : []\n",
    "}\n",
    "path = list()\n",
    "def DFS(currentNode,destination,graph,maxDepth,curList):\n",
    "    curList.append(currentNode)\n",
    "    if currentNode==destination:\n",
    "        return True\n",
    "    if maxDepth<=0:\n",
    "        path.append(curList)\n",
    "        return False\n",
    "    for node in graph[currentNode]:\n",
    "        if DFS(node,destination,graph,maxDepth-1,curList):\n",
    "            return True\n",
    "        else:\n",
    "            curList.pop()\n",
    "    return False\n",
    "def iterativeDDFS(currentNode,destination,graph,maxDepth):\n",
    "    for i in range(maxDepth):\n",
    "        curList = list()\n",
    "        if DFS(currentNode,destination,graph,i,curList):\n",
    "            return True\n",
    "    return False\n",
    "if not iterativeDDFS('A','E',graph,3):\n",
    "    print(\"Path is not available\") \n",
    "else:\n",
    "    print(\"Path exists\")\n",
    "    print(path.pop())"
   ]
  },
  {
   "cell_type": "code",
   "execution_count": null,
   "id": "969a3a7a",
   "metadata": {},
   "outputs": [],
   "source": []
  }
 ],
 "metadata": {
  "kernelspec": {
   "display_name": "Python 3.11.0 64-bit",
   "language": "python",
   "name": "python3"
  },
  "language_info": {
   "codemirror_mode": {
    "name": "ipython",
    "version": 3
   },
   "file_extension": ".py",
   "mimetype": "text/x-python",
   "name": "python",
   "nbconvert_exporter": "python",
   "pygments_lexer": "ipython3",
   "version": "3.11.0 (main, Oct 24 2022, 18:26:48) [MSC v.1933 64 bit (AMD64)]"
  },
  "vscode": {
   "interpreter": {
    "hash": "dc017eb0198d48429599d31fc26885ea27a0b6b8c2c6436be278931ddb7db84f"
   }
  }
 },
 "nbformat": 4,
 "nbformat_minor": 5
}
