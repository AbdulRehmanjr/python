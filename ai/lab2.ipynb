{
 "cells": [
  {
   "cell_type": "code",
   "execution_count": 32,
   "metadata": {},
   "outputs": [],
   "source": []
  },
  {
   "cell_type": "code",
   "execution_count": 47,
   "metadata": {},
   "outputs": [
    {
     "name": "stdout",
     "output_type": "stream",
     "text": [
      "1 -> 2 -> 3 -> 4 -> 5 -> 10\n"
     ]
    }
   ],
   "source": [
    "graph = {\n",
    "    '1':['2','3','4'],\n",
    "    '2':['5','6'],\n",
    "    '3':[],\n",
    "    '4':['7','8'],\n",
    "    '5':['9','10'],\n",
    "    '6':[],\n",
    "    '7':[],\n",
    "    '8':[],\n",
    "    '9':[],\n",
    "    '10':[]\n",
    "}\n",
    "queue = []\n",
    "visited = []\n",
    "startNode = '1'\n",
    "def BFS(graph,visited,startNode,search):\n",
    "    if search == startNode:\n",
    "        print('1',end=\" \")\n",
    "    else:\n",
    "        queue.append(startNode)\n",
    "        visited.append(startNode)\n",
    "        while queue:\n",
    "            m = queue.pop(0)            \n",
    "            print (m,\"->\", end = \" \") \n",
    "            # Get all adjacent vertices of the dequeued vertex m.\n",
    "            #If a adjacent has not been visited, then mark it visited and enqueue it\n",
    "            for neighbour in graph[m]:\n",
    "                if neighbour not in visited:\n",
    "                    visited.append(neighbour)\n",
    "                    if search in visited:\n",
    "                        print(search)\n",
    "                        return\n",
    "                    queue.append(neighbour)\n",
    "BFS(graph,visited,'1','10')"
   ]
  },
  {
   "cell_type": "code",
   "execution_count": 23,
   "metadata": {},
   "outputs": [
    {
     "name": "stdout",
     "output_type": "stream",
     "text": [
      "1 -> "
     ]
    }
   ],
   "source": []
  }
 ],
 "metadata": {
  "kernelspec": {
   "display_name": "Python 3",
   "language": "python",
   "name": "python3"
  },
  "language_info": {
   "codemirror_mode": {
    "name": "ipython",
    "version": 3
   },
   "file_extension": ".py",
   "mimetype": "text/x-python",
   "name": "python",
   "nbconvert_exporter": "python",
   "pygments_lexer": "ipython3",
   "version": "3.11.0 (main, Oct 24 2022, 18:26:48) [MSC v.1933 64 bit (AMD64)]"
  },
  "orig_nbformat": 4,
  "vscode": {
   "interpreter": {
    "hash": "dc017eb0198d48429599d31fc26885ea27a0b6b8c2c6436be278931ddb7db84f"
   }
  }
 },
 "nbformat": 4,
 "nbformat_minor": 2
}
