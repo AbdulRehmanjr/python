{
 "cells": [
  {
   "cell_type": "code",
   "execution_count": 1,
   "metadata": {},
   "outputs": [
    {
     "ename": "TypeError",
     "evalue": "arguments did not match any overloaded call:\n  drawText(self, QPointF, str): argument 1 has unexpected type 'int'\n  drawText(self, QRectF, int, str): argument 1 has unexpected type 'int'\n  drawText(self, QRect, int, str): argument 1 has unexpected type 'int'\n  drawText(self, QRectF, str, option: QTextOption = QTextOption()): argument 1 has unexpected type 'int'\n  drawText(self, QPoint, str): argument 1 has unexpected type 'int'\n  drawText(self, int, int, int, int, int, str): argument 2 has unexpected type 'float'\n  drawText(self, int, int, str): argument 2 has unexpected type 'float'",
     "output_type": "error",
     "traceback": [
      "\u001b[1;31m---------------------------------------------------------------------------\u001b[0m",
      "\u001b[1;31mTypeError\u001b[0m                                 Traceback (most recent call last)",
      "Cell \u001b[1;32mIn[1], line 38\u001b[0m\n\u001b[0;32m     36\u001b[0m \u001b[39mif\u001b[39;00m \u001b[39m__name__\u001b[39m \u001b[39m==\u001b[39m \u001b[39m'\u001b[39m\u001b[39m__main__\u001b[39m\u001b[39m'\u001b[39m:\n\u001b[0;32m     37\u001b[0m     app \u001b[39m=\u001b[39m QApplication(sys\u001b[39m.\u001b[39margv)\n\u001b[1;32m---> 38\u001b[0m     view \u001b[39m=\u001b[39m MyView()\n\u001b[0;32m     39\u001b[0m     view\u001b[39m.\u001b[39mshow()\n\u001b[0;32m     40\u001b[0m     sys\u001b[39m.\u001b[39mexit(app\u001b[39m.\u001b[39mexec())\n",
      "Cell \u001b[1;32mIn[1], line 14\u001b[0m, in \u001b[0;36mMyView.__init__\u001b[1;34m(self)\u001b[0m\n\u001b[0;32m     11\u001b[0m \u001b[39mself\u001b[39m\u001b[39m.\u001b[39mtext \u001b[39m=\u001b[39m \u001b[39m'\u001b[39m\u001b[39mHello, PyQt6! I am ChatGPT.\u001b[39m\u001b[39m'\u001b[39m\n\u001b[0;32m     12\u001b[0m \u001b[39mself\u001b[39m\u001b[39m.\u001b[39mfont \u001b[39m=\u001b[39m QFont(\u001b[39m'\u001b[39m\u001b[39mArial\u001b[39m\u001b[39m'\u001b[39m, \u001b[39m20\u001b[39m)\n\u001b[1;32m---> 14\u001b[0m \u001b[39mself\u001b[39;49m\u001b[39m.\u001b[39;49mdraw_text()\n",
      "Cell \u001b[1;32mIn[1], line 30\u001b[0m, in \u001b[0;36mMyView.draw_text\u001b[1;34m(self)\u001b[0m\n\u001b[0;32m     28\u001b[0m \u001b[39mfor\u001b[39;00m word \u001b[39min\u001b[39;00m words:\n\u001b[0;32m     29\u001b[0m     word_width \u001b[39m=\u001b[39m painter\u001b[39m.\u001b[39mboundingRect(\u001b[39m0\u001b[39m, \u001b[39m0\u001b[39m, \u001b[39m0\u001b[39m, \u001b[39m0\u001b[39m, \u001b[39m0\u001b[39m, word)\u001b[39m.\u001b[39mwidth()\n\u001b[1;32m---> 30\u001b[0m     painter\u001b[39m.\u001b[39;49mdrawText(x_pos, y_pos, word)\n\u001b[0;32m     31\u001b[0m     x_pos \u001b[39m+\u001b[39m\u001b[39m=\u001b[39m word_width \u001b[39m+\u001b[39m \u001b[39m10\u001b[39m\n\u001b[0;32m     33\u001b[0m \u001b[39mself\u001b[39m\u001b[39m.\u001b[39mscene\u001b[39m.\u001b[39msetSceneRect(painter\u001b[39m.\u001b[39mboundingRect())\n",
      "\u001b[1;31mTypeError\u001b[0m: arguments did not match any overloaded call:\n  drawText(self, QPointF, str): argument 1 has unexpected type 'int'\n  drawText(self, QRectF, int, str): argument 1 has unexpected type 'int'\n  drawText(self, QRect, int, str): argument 1 has unexpected type 'int'\n  drawText(self, QRectF, str, option: QTextOption = QTextOption()): argument 1 has unexpected type 'int'\n  drawText(self, QPoint, str): argument 1 has unexpected type 'int'\n  drawText(self, int, int, int, int, int, str): argument 2 has unexpected type 'float'\n  drawText(self, int, int, str): argument 2 has unexpected type 'float'"
     ]
    }
   ],
   "source": [
    "import sys\n",
    "from PyQt6.QtWidgets import QApplication, QGraphicsView, QGraphicsScene\n",
    "from PyQt6.QtGui import QPainter, QColor, QPen, QFont\n",
    "\n",
    "class MyView(QGraphicsView):\n",
    "    def __init__(self):\n",
    "        super().__init__()\n",
    "        self.scene = QGraphicsScene(self)\n",
    "        self.setScene(self.scene)\n",
    "\n",
    "        self.text = 'Hello, PyQt6! I am ChatGPT.'\n",
    "        self.font = QFont('Arial', 20)\n",
    "\n",
    "        self.draw_text()\n",
    "\n",
    "    def draw_text(self):\n",
    "        painter = QPainter()\n",
    "        pen = QPen(QColor(255, 0, 0))\n",
    "        pen.setWidth(2)\n",
    "        painter.setPen(pen)\n",
    "        painter.setFont(self.font)\n",
    "\n",
    "        words = self.text.split()\n",
    "\n",
    "        x_pos = 0\n",
    "        y_pos = (self.height() - self.font.pointSize()) / 2 + self.font.pointSize()\n",
    "\n",
    "        for word in words:\n",
    "            word_width = painter.boundingRect(0, 0, 0, 0, 0, word).width()\n",
    "            painter.drawText(int(x_pos), int(y_pos), word)\n",
    "            x_pos += word_width + 10\n",
    "\n",
    "        self.scene.setSceneRect(painter.boundingRect())\n",
    "        self.scene.update()\n",
    "\n",
    "if __name__ == '__main__':\n",
    "    app = QApplication(sys.argv)\n",
    "    view = MyView()\n",
    "    view.show()\n",
    "    sys.exit(app.exec())\n"
   ]
  }
 ],
 "metadata": {
  "kernelspec": {
   "display_name": "Python 3",
   "language": "python",
   "name": "python3"
  },
  "language_info": {
   "codemirror_mode": {
    "name": "ipython",
    "version": 3
   },
   "file_extension": ".py",
   "mimetype": "text/x-python",
   "name": "python",
   "nbconvert_exporter": "python",
   "pygments_lexer": "ipython3",
   "version": "3.11.1"
  },
  "orig_nbformat": 4,
  "vscode": {
   "interpreter": {
    "hash": "98f695c938581e5a1ca220556a862bb7bb81b179544d4b01b718a9c0b2a8c66a"
   }
  }
 },
 "nbformat": 4,
 "nbformat_minor": 2
}
