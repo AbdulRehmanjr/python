{
 "cells": [
  {
   "cell_type": "code",
   "execution_count": 27,
   "metadata": {},
   "outputs": [],
   "source": [
    "from  language_tool_python  import LanguageTool\n",
    "from gingerit.gingerit import GingerIt"
   ]
  },
  {
   "cell_type": "code",
   "execution_count": 5,
   "metadata": {},
   "outputs": [],
   "source": [
    "from nltk.tag import pos_tag\n",
    "from nltk.tokenize import word_tokenize"
   ]
  },
  {
   "cell_type": "code",
   "execution_count": 1,
   "metadata": {},
   "outputs": [],
   "source": [
    "from nltk.stem.porter import PorterStemmer"
   ]
  },
  {
   "cell_type": "code",
   "execution_count": 86,
   "metadata": {},
   "outputs": [],
   "source": [
    "text = \"I m not good at engishs.\""
   ]
  },
  {
   "cell_type": "code",
   "execution_count": 27,
   "metadata": {},
   "outputs": [
    {
     "data": {
      "text/plain": [
       "[('i', 'NN'), ('was', 'VBD'), ('running', 'VBG'), ('.', '.')]"
      ]
     },
     "execution_count": 27,
     "metadata": {},
     "output_type": "execute_result"
    }
   ],
   "source": [
    "tokens = word_tokenize(text)\n",
    "pos_tag(tokens)"
   ]
  },
  {
   "cell_type": "code",
   "execution_count": 29,
   "metadata": {},
   "outputs": [],
   "source": [
    "tool = LanguageTool('en-US')"
   ]
  },
  {
   "cell_type": "code",
   "execution_count": 19,
   "metadata": {},
   "outputs": [
    {
     "data": {
      "text/plain": [
       "'i was ran.'"
      ]
     },
     "execution_count": 19,
     "metadata": {},
     "output_type": "execute_result"
    }
   ],
   "source": [
    "doc = nlp(text)\n",
    "# lemmatized = ' '.join([token.lemma_ if token.pos_ == 'VERB' else token.text for token in doc])\n",
    "doc\n",
    "str(doc)"
   ]
  },
  {
   "cell_type": "code",
   "execution_count": 87,
   "metadata": {},
   "outputs": [
    {
     "data": {
      "text/plain": [
       "{'text': 'I m not good at engishs.',\n",
       " 'result': \"I'm not good at anguish.\",\n",
       " 'corrections': [{'start': 16,\n",
       "   'text': 'engishs',\n",
       "   'correct': 'anguish',\n",
       "   'definition': 'extreme mental distress'},\n",
       "  {'start': 0, 'text': 'I m', 'correct': \"I'm\", 'definition': None}]}"
      ]
     },
     "execution_count": 87,
     "metadata": {},
     "output_type": "execute_result"
    }
   ],
   "source": [
    "ginger = GingerIt()\n",
    "g_text = ginger.parse(text,True)\n",
    "g_text\n",
    "# tool.enable_spellchecking()\n",
    "# checking = tool.check(text)\n",
    "# print(checking)\n",
    "# correct = tool.correct(text)\n",
    "# correct"
   ]
  },
  {
   "cell_type": "code",
   "execution_count": 22,
   "metadata": {},
   "outputs": [
    {
     "data": {
      "text/plain": [
       "['are', 'yo', 'fine']"
      ]
     },
     "execution_count": 22,
     "metadata": {},
     "output_type": "execute_result"
    }
   ],
   "source": [
    "stemmer = PorterStemmer()\n",
    "word_tokens = word_tokenize(g_text['result'])\n",
    "stems = [stemmer.stem(word) for word in word_tokens]\n",
    "stems"
   ]
  },
  {
   "cell_type": "code",
   "execution_count": 94,
   "metadata": {},
   "outputs": [],
   "source": [
    "from nltk.sentiment.vader import SentimentIntensityAnalyzer\n",
    "# nltk.download('vader_lexicon')\n"
   ]
  },
  {
   "cell_type": "code",
   "execution_count": 103,
   "metadata": {},
   "outputs": [
    {
     "name": "stdout",
     "output_type": "stream",
     "text": [
      "happy\n"
     ]
    }
   ],
   "source": [
    "def detect_emotion(sentence):\n",
    "    # Initialize the sentiment analyzer\n",
    "    sia = SentimentIntensityAnalyzer()\n",
    "    # Get the polarity scores for the sentence\n",
    "    scores = sia.polarity_scores(sentence)\n",
    "    # Determine the emotion based on the polarity score\n",
    "    if scores['compound'] >= 0.05:\n",
    "        return 'happy'\n",
    "    elif scores['compound'] <= -0.05:\n",
    "        return 'sad'\n",
    "    else:\n",
    "        return 'neutral'\n",
    "    \n",
    "# Example usage\n",
    "sentence = \"this match is more boring then enjoying in party\"\n",
    "emotion = detect_emotion(sentence)\n",
    "print(emotion)  # Output: 'happy'\n",
    "\n",
    "\n"
   ]
  },
  {
   "cell_type": "code",
   "execution_count": 22,
   "metadata": {},
   "outputs": [],
   "source": [
    "from language_tool_python import LanguageTool\n",
    "\n",
    "tool = LanguageTool('en-US')"
   ]
  },
  {
   "cell_type": "code",
   "execution_count": 38,
   "metadata": {},
   "outputs": [
    {
     "name": "stdout",
     "output_type": "stream",
     "text": [
      "These is many exmple\n",
      "\n",
      "-------------------\n",
      "\n",
      "This is many example\n"
     ]
    }
   ],
   "source": [
    "\n",
    "\n",
    "text = \"\"\"I goes to the store every Monday. Yesterday, me and him watched a movies together. Its not often that we gets to spend time like that, but it was fun.\"\"\"\n",
    "\n",
    "text2 = \"These is many exmple\"\n",
    "\n",
    "matches = tool.check(text2)\n",
    "\n",
    "corrections = []\n",
    "mistakes = []\n",
    "errorStartPosition = []\n",
    "errorEndPosition = []\n",
    "\n",
    "for match in matches:\n",
    "    # To check if there are any correct replacement available\n",
    "    if len(match.replacements) > 0:\n",
    "        errorStartPosition.append(match.offset)\n",
    "        errorEndPosition.append(match.offset + match.errorLength)\n",
    "        mistakes.append(text[match.offset : match.offset + match.errorLength])\n",
    "        corrections.append(match.replacements[0])\n",
    "\n",
    "# Converting our originaltext into list\n",
    "newText = list(text2)\n",
    "\n",
    "for i in range(len(errorStartPosition)):\n",
    "    for j in range(len(text2)):\n",
    "        newText[errorStartPosition[i]] = corrections[i]\n",
    "        if j > errorStartPosition[i] and j < errorEndPosition[i]:\n",
    "            newText[j] = \"\"\n",
    "\n",
    "# Joining our list to convert to string\n",
    "newText = \"\".join(newText)\n",
    "\n",
    "print(text2)\n",
    "print(\"\\n-------------------\\n\")\n",
    "print(newText)"
   ]
  },
  {
   "cell_type": "code",
   "execution_count": 25,
   "metadata": {},
   "outputs": [],
   "source": [
    "from gingerit.gingerit import GingerIt"
   ]
  },
  {
   "cell_type": "code",
   "execution_count": 34,
   "metadata": {},
   "outputs": [
    {
     "name": "stdout",
     "output_type": "stream",
     "text": [
      "{'text': 'This are many exmple', 'result': 'This are many examples', 'corrections': [{'start': 14, 'text': 'exmple', 'correct': 'examples', 'definition': 'an item of information that is typical of a class or group'}]}\n"
     ]
    }
   ],
   "source": [
    "t = \"This are many exmple\"\n",
    "corrected_text = GingerIt().parse(t)\n",
    "print(corrected_text)"
   ]
  }
 ],
 "metadata": {
  "kernelspec": {
   "display_name": "Python 3",
   "language": "python",
   "name": "python3"
  },
  "language_info": {
   "codemirror_mode": {
    "name": "ipython",
    "version": 3
   },
   "file_extension": ".py",
   "mimetype": "text/x-python",
   "name": "python",
   "nbconvert_exporter": "python",
   "pygments_lexer": "ipython3",
   "version": "3.11.1"
  },
  "orig_nbformat": 4,
  "vscode": {
   "interpreter": {
    "hash": "98f695c938581e5a1ca220556a862bb7bb81b179544d4b01b718a9c0b2a8c66a"
   }
  }
 },
 "nbformat": 4,
 "nbformat_minor": 2
}
