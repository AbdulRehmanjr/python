{
 "cells": [
  {
   "cell_type": "code",
   "execution_count": 7,
   "metadata": {},
   "outputs": [
    {
     "name": "stdout",
     "output_type": "stream",
     "text": [
      "[('میں', 2.4), ('آج', 2.4), ('کتاب', 2.4), ('پڑھ', 2.4), ('رہا', 2.4), ('ہوں', 1.2)]\n",
      "('میں', 'noun')\n",
      "(' ', None)\n",
      "('کھا', 'noun')\n",
      "(' ', None)\n",
      "('رہا', 'noun')\n",
      "(' ', None)\n",
      "('ہوں', 'noun')\n"
     ]
    }
   ],
   "source": [
    "import pynlpir\n",
    "\n",
    "pynlpir.open()\n",
    "\n",
    "text = \"میں آج 2 کتاب پڑھ رہا ہوں\"\n",
    "text2 = \"میں کھا رہا ہوں\"\n",
    "words = pynlpir.segment(text2)\n",
    "key = pynlpir.get_key_words(text, weighted=True)\n",
    "print(key)\n",
    "for word in words:\n",
    "    print(word)\n",
    "\n",
    "pynlpir.close()"
   ]
  },
  {
   "cell_type": "code",
   "execution_count": 1,
   "metadata": {},
   "outputs": [
    {
     "ename": "AttributeError",
     "evalue": "module 'pynlpir' has no attribute 'get_lemma'",
     "output_type": "error",
     "traceback": [
      "\u001b[1;31m---------------------------------------------------------------------------\u001b[0m",
      "\u001b[1;31mAttributeError\u001b[0m                            Traceback (most recent call last)",
      "Cell \u001b[1;32mIn[1], line 21\u001b[0m\n\u001b[0;32m     19\u001b[0m \u001b[39m# Example usage\u001b[39;00m\n\u001b[0;32m     20\u001b[0m sentence \u001b[39m=\u001b[39m \u001b[39m'\u001b[39m\u001b[39mمیں کھانا کھاتی ہوں\u001b[39m\u001b[39m'\u001b[39m\n\u001b[1;32m---> 21\u001b[0m corrected_sentence \u001b[39m=\u001b[39m correct_grammar(sentence)\n\u001b[0;32m     22\u001b[0m \u001b[39mprint\u001b[39m(corrected_sentence)\n",
      "Cell \u001b[1;32mIn[1], line 10\u001b[0m, in \u001b[0;36mcorrect_grammar\u001b[1;34m(sentence)\u001b[0m\n\u001b[0;32m      8\u001b[0m \u001b[39mfor\u001b[39;00m word, pos \u001b[39min\u001b[39;00m words:\n\u001b[0;32m      9\u001b[0m     \u001b[39mif\u001b[39;00m pos \u001b[39min\u001b[39;00m (\u001b[39m'\u001b[39m\u001b[39mnoun\u001b[39m\u001b[39m'\u001b[39m, \u001b[39m'\u001b[39m\u001b[39mverb\u001b[39m\u001b[39m'\u001b[39m, \u001b[39m'\u001b[39m\u001b[39madjective\u001b[39m\u001b[39m'\u001b[39m, \u001b[39m'\u001b[39m\u001b[39madverb\u001b[39m\u001b[39m'\u001b[39m):\n\u001b[1;32m---> 10\u001b[0m         lemma \u001b[39m=\u001b[39m pynlpir\u001b[39m.\u001b[39;49mget_lemma(word, pos)\n\u001b[0;32m     11\u001b[0m         \u001b[39mif\u001b[39;00m pynlpir\u001b[39m.\u001b[39mget_lexical_category(lemma) \u001b[39m==\u001b[39m pos:\n\u001b[0;32m     12\u001b[0m             corrected_words\u001b[39m.\u001b[39mappend(lemma)\n",
      "\u001b[1;31mAttributeError\u001b[0m: module 'pynlpir' has no attribute 'get_lemma'"
     ]
    }
   ],
   "source": [
    "import pynlpir\n",
    "\n",
    "pynlpir.open()\n",
    "\n",
    "def correct_grammar(sentence):\n",
    "    words = pynlpir.segment(sentence, pos_tagging=True)\n",
    "    corrected_words = []\n",
    "    for word, pos in words:\n",
    "        if pos in ('noun', 'verb', 'adjective', 'adverb'):\n",
    "            lemma = pynlpir.get_lemma(word, pos)\n",
    "            if pynlpir.get_lexical_category(lemma) == pos:\n",
    "                corrected_words.append(lemma)\n",
    "            else:\n",
    "                corrected_words.append(word)\n",
    "        else:\n",
    "            corrected_words.append(word)\n",
    "    return ' '.join(corrected_words)\n",
    "\n",
    "# Example usage\n",
    "sentence = 'میں کھانا کھاتی ہوں'\n",
    "corrected_sentence = correct_grammar(sentence)\n",
    "print(corrected_sentence)\n"
   ]
  }
 ],
 "metadata": {
  "kernelspec": {
   "display_name": "Python 3",
   "language": "python",
   "name": "python3"
  },
  "language_info": {
   "codemirror_mode": {
    "name": "ipython",
    "version": 3
   },
   "file_extension": ".py",
   "mimetype": "text/x-python",
   "name": "python",
   "nbconvert_exporter": "python",
   "pygments_lexer": "ipython3",
   "version": "3.11.1"
  },
  "orig_nbformat": 4,
  "vscode": {
   "interpreter": {
    "hash": "98f695c938581e5a1ca220556a862bb7bb81b179544d4b01b718a9c0b2a8c66a"
   }
  }
 },
 "nbformat": 4,
 "nbformat_minor": 2
}
