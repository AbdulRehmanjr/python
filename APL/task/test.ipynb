{
 "cells": [
  {
   "attachments": {},
   "cell_type": "markdown",
   "metadata": {},
   "source": [
    "file creation"
   ]
  },
  {
   "cell_type": "code",
   "execution_count": 40,
   "metadata": {},
   "outputs": [],
   "source": [
    "def createIdFile():\n",
    "    path = './json/id.txt'\n",
    "    try:\n",
    "        with open(path, \"r\") as file:\n",
    "            pass\n",
    "    except FileNotFoundError:\n",
    "        with open(path, \"w\") as file:\n",
    "            file.write(\"1\")"
   ]
  },
  {
   "cell_type": "code",
   "execution_count": 41,
   "metadata": {},
   "outputs": [],
   "source": [
    "createIdFile()"
   ]
  },
  {
   "attachments": {},
   "cell_type": "markdown",
   "metadata": {},
   "source": [
    "id generation"
   ]
  },
  {
   "cell_type": "code",
   "execution_count": 3,
   "metadata": {},
   "outputs": [],
   "source": [
    "def generateId()->int:\n",
    "        path = './json/id.txt'\n",
    "        id = 0\n",
    "        s = \"\"\n",
    "        try:\n",
    "            with open(path, \"r\") as file:\n",
    "                s = file.read()\n",
    "                print(s)\n",
    "                id = int(s)\n",
    "        except FileNotFoundError:\n",
    "            print('File not found error')\n",
    "        try:\n",
    "            with open(path, \"w\") as file:\n",
    "                id= id+1\n",
    "                file.write(str(id))\n",
    "                \n",
    "        except FileNotFoundError:\n",
    "            print('File not found error')\n",
    "        return id"
   ]
  },
  {
   "cell_type": "code",
   "execution_count": 4,
   "metadata": {},
   "outputs": [
    {
     "name": "stdout",
     "output_type": "stream",
     "text": [
      "5\n",
      "6\n"
     ]
    }
   ],
   "source": [
    "id = generateId()\n",
    "print(id)"
   ]
  },
  {
   "attachments": {},
   "cell_type": "markdown",
   "metadata": {},
   "source": [
    "json formating reading"
   ]
  },
  {
   "cell_type": "code",
   "execution_count": 15,
   "metadata": {},
   "outputs": [
    {
     "name": "stdout",
     "output_type": "stream",
     "text": [
      "{'studentId': 1, 'studentName': 'Abdul Rehman', 'fatherName': 'Nadeem', 'studentDob': '30/12/2001', 'studentAddress': 'Ghakhar', 'studentPhone': '+923341047072', 'studentGender': 'Male', 'studentSection': 'C', 'studentBatch': '2020', 'studentDegree': 'BSCS'}\n",
      "{'studentId': 2, 'studentName': 'Umar', 'fatherName': 'Nadeem', 'studentDob': '30/12/2001', 'studentAddress': 'Ghakhar', 'studentPhone': '+923341047072', 'studentGender': 'Male', 'studentSection': 'C', 'studentBatch': '2020', 'studentDegree': 'BSCS'}\n",
      "{'studentId': 3, 'studentName': 'Khizar', 'fatherName': 'Nadeem', 'studentDob': '30/12/2001', 'studentAddress': 'Ghakhar', 'studentPhone': '+923341047072', 'studentGender': 'Male', 'studentSection': 'C', 'studentBatch': '2020', 'studentDegree': 'BSCS'}\n",
      "{'studentId': 4, 'studentName': 'Ahmad', 'fatherName': 'Nadeem', 'studentDob': '30/12/2001', 'studentAddress': 'Ghakhar', 'studentPhone': '+923341047072', 'studentGender': 'Male', 'studentSection': 'C', 'studentBatch': '2020', 'studentDegree': 'BSCS'}\n"
     ]
    }
   ],
   "source": [
    "import json\n",
    "data = []\n",
    "try:\n",
    "    with open('./json/student.json', \"r\") as file:\n",
    "    #    data =  file.readlines()\n",
    "        data = json.load(file)\n",
    "       \n",
    "          \n",
    "except FileNotFoundError:\n",
    "    print('File not found error')\n",
    "# data\n",
    "for d in data:\n",
    "    print(d)\n"
   ]
  },
  {
   "attachments": {},
   "cell_type": "markdown",
   "metadata": {},
   "source": [
    "pandas formating"
   ]
  },
  {
   "cell_type": "code",
   "execution_count": 17,
   "metadata": {},
   "outputs": [
    {
     "name": "stdout",
     "output_type": "stream",
     "text": [
      "   studentId studentName fatherName  studentDob studentAddress  studentPhone  \\\n",
      "0          1        Umar      waris  10/20/2002     gujranwala    3345665765   \n",
      "\n",
      "  studentGender studentSection  studentBatch  studentRoll  \n",
      "0          male              C            20          139  \n"
     ]
    }
   ],
   "source": [
    "import pandas as pd\n",
    "\n",
    "def findRecord(findBy, value):\n",
    "        data = pd.read_json('./student.json')\n",
    "        try:\n",
    "            data = data.loc[data[findBy] == value]\n",
    "            print(data)\n",
    "        except ValueError:\n",
    "            print(f'No student registered with {findBy}: {value}')\n",
    "findRecord('studentBatch',20)\n"
   ]
  },
  {
   "attachments": {},
   "cell_type": "markdown",
   "metadata": {},
   "source": [
    "updating the file"
   ]
  },
  {
   "cell_type": "code",
   "execution_count": 15,
   "metadata": {},
   "outputs": [
    {
     "data": {
      "text/plain": [
       "[{'studentId': 1,\n",
       "  'studentName': 'ABC',\n",
       "  'fatherName': 'Nadeem',\n",
       "  'studentDob': '30/12/2001',\n",
       "  'studentAddress': 'Ghakhar',\n",
       "  'studentPhone': '+923341047072',\n",
       "  'studentGender': 'Male',\n",
       "  'studentSection': 'C',\n",
       "  'studentBatch': '2020',\n",
       "  'studentDegree': 'BSCS'},\n",
       " {'studentId': 2,\n",
       "  'studentName': 'Umar',\n",
       "  'fatherName': 'Nadeem',\n",
       "  'studentDob': '30/12/2001',\n",
       "  'studentAddress': 'Ghakhar',\n",
       "  'studentPhone': '+923341047072',\n",
       "  'studentGender': 'Male',\n",
       "  'studentSection': 'C',\n",
       "  'studentBatch': '2020',\n",
       "  'studentDegree': 'BSCS'},\n",
       " {'studentId': 3,\n",
       "  'studentName': 'Khizar',\n",
       "  'fatherName': 'Nadeem',\n",
       "  'studentDob': '30/12/2001',\n",
       "  'studentAddress': 'Ghakhar',\n",
       "  'studentPhone': '+923341047072',\n",
       "  'studentGender': 'Male',\n",
       "  'studentSection': 'C',\n",
       "  'studentBatch': '2020',\n",
       "  'studentDegree': 'BSCS'},\n",
       " {'studentId': 4,\n",
       "  'studentName': 'Ahmad',\n",
       "  'fatherName': 'Nadeem',\n",
       "  'studentDob': '30/12/2001',\n",
       "  'studentAddress': 'Ghakhar',\n",
       "  'studentPhone': '+923341047072',\n",
       "  'studentGender': 'Male',\n",
       "  'studentSection': 'C',\n",
       "  'studentBatch': '2020',\n",
       "  'studentDegree': 'BSCS'}]"
      ]
     },
     "execution_count": 15,
     "metadata": {},
     "output_type": "execute_result"
    }
   ],
   "source": [
    "import json\n",
    "with open('./json/student.json', \"r\") as fileData:\n",
    "    oldData = json.load(fileData)\n",
    "for data in oldData:\n",
    "    if(data[\"studentId\"] == 1):\n",
    "        data[\"studentName\"] = 'ABC'\n",
    "        break\n",
    "oldData"
   ]
  },
  {
   "attachments": {},
   "cell_type": "markdown",
   "metadata": {},
   "source": [
    "delete"
   ]
  },
  {
   "cell_type": "code",
   "execution_count": 18,
   "metadata": {},
   "outputs": [
    {
     "data": {
      "text/plain": [
       "[{'studentId': 2,\n",
       "  'studentName': 'Umar',\n",
       "  'fatherName': 'Nadeem',\n",
       "  'studentDob': '30/12/2001',\n",
       "  'studentAddress': 'Ghakhar',\n",
       "  'studentPhone': '+923341047072',\n",
       "  'studentGender': 'Male',\n",
       "  'studentSection': 'C',\n",
       "  'studentBatch': '2020',\n",
       "  'studentDegree': 'BSCS'},\n",
       " {'studentId': 3,\n",
       "  'studentName': 'Khizar',\n",
       "  'fatherName': 'Nadeem',\n",
       "  'studentDob': '30/12/2001',\n",
       "  'studentAddress': 'Ghakhar',\n",
       "  'studentPhone': '+923341047072',\n",
       "  'studentGender': 'Male',\n",
       "  'studentSection': 'C',\n",
       "  'studentBatch': '2020',\n",
       "  'studentDegree': 'BSCS'},\n",
       " {'studentId': 4,\n",
       "  'studentName': 'Ahmad',\n",
       "  'fatherName': 'Nadeem',\n",
       "  'studentDob': '30/12/2001',\n",
       "  'studentAddress': 'Ghakhar',\n",
       "  'studentPhone': '+923341047072',\n",
       "  'studentGender': 'Male',\n",
       "  'studentSection': 'C',\n",
       "  'studentBatch': '2020',\n",
       "  'studentDegree': 'BSCS'}]"
      ]
     },
     "execution_count": 18,
     "metadata": {},
     "output_type": "execute_result"
    }
   ],
   "source": [
    "import json\n",
    "with open('./json/student.json', \"r\") as fileData:\n",
    "    oldData = json.load(fileData)\n",
    "for data in oldData:\n",
    "    if(data[\"studentId\"] == 1):\n",
    "        oldData.remove(data)\n",
    "        break\n",
    "with open('./json/student.json','w') as fileData:\n",
    "    json.dump(oldData,fileData,indent=2)\n",
    "oldData"
   ]
  }
 ],
 "metadata": {
  "kernelspec": {
   "display_name": "Python 3",
   "language": "python",
   "name": "python3"
  },
  "language_info": {
   "codemirror_mode": {
    "name": "ipython",
    "version": 3
   },
   "file_extension": ".py",
   "mimetype": "text/x-python",
   "name": "python",
   "nbconvert_exporter": "python",
   "pygments_lexer": "ipython3",
   "version": "3.11.1"
  },
  "orig_nbformat": 4,
  "vscode": {
   "interpreter": {
    "hash": "98f695c938581e5a1ca220556a862bb7bb81b179544d4b01b718a9c0b2a8c66a"
   }
  }
 },
 "nbformat": 4,
 "nbformat_minor": 2
}
