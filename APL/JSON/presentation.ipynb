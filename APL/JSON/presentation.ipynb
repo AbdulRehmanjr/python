{
 "cells": [
  {
   "attachments": {},
   "cell_type": "markdown",
   "metadata": {},
   "source": [
    "IMPORTS"
   ]
  },
  {
   "cell_type": "code",
   "execution_count": 28,
   "metadata": {},
   "outputs": [],
   "source": [
    "import json \n",
    "import pandas as pd\n",
    "import sys\n",
    "import os"
   ]
  },
  {
   "attachments": {},
   "cell_type": "markdown",
   "metadata": {},
   "source": [
    "functions to create files "
   ]
  },
  {
   "cell_type": "code",
   "execution_count": 31,
   "metadata": {},
   "outputs": [],
   "source": [
    "pathId = './id.txt'\n",
    "pathJson = './student.json'"
   ]
  },
  {
   "cell_type": "code",
   "execution_count": 32,
   "metadata": {},
   "outputs": [],
   "source": [
    "\n",
    "def createIdFile():\n",
    "    if os.path.exists(pathId):\n",
    "        print('exist')\n",
    "    else:\n",
    "        with open(pathId, \"w\") as file:\n",
    "            file.write(\"1\")\n",
    "        \n",
    "# create JsonFile\n",
    "def createJsonFile():\n",
    "    '''Create a empty json file if not exists and write a []'''\n",
    "    data = []\n",
    "    if os.path.exists(pathJson):\n",
    "        print('exist')\n",
    "    else:\n",
    "        with open(pathJson, \"w\") as file:\n",
    "            json.dump(data, file)\n",
    "createIdFile()  # id file creation one time\n",
    "createJsonFile()"
   ]
  },
  {
   "attachments": {},
   "cell_type": "markdown",
   "metadata": {},
   "source": [
    "Student Class  which returns  json (dict type )  as a tostring method"
   ]
  },
  {
   "cell_type": "code",
   "execution_count": 20,
   "metadata": {},
   "outputs": [],
   "source": [
    "class Student:\n",
    "\n",
    "    def __init__(self, studentName, fatherName, studentDob, studentAddress, studentPhone, studentGender, studentSection, studentBatch, studentRoll):\n",
    "        self.studentId = 0\n",
    "        self.studentName = studentName\n",
    "        self.fatherName = fatherName\n",
    "        self.studentDob = studentDob \n",
    "        self.studentAddress = studentAddress\n",
    "        self.studentPhone = studentPhone\n",
    "        self.studentGender = studentGender\n",
    "        self.studentSection = studentSection\n",
    "        self.studentBatch = studentBatch\n",
    "        self.studentRoll = studentRoll\n",
    "\n",
    "    def __str__(self) -> dict:\n",
    "        student = {\n",
    "            \"studentId\": self.studentId,\n",
    "            \"studentName\": self.studentName,\n",
    "            \"fatherName\": self.fatherName,\n",
    "            \"studentDob\": self.studentDob,\n",
    "            \"studentAddress\": self.studentAddress,\n",
    "            \"studentPhone\": self.studentPhone,\n",
    "            \"studentGender\": self.studentGender,\n",
    "            \"studentSection\": self.studentSection,\n",
    "            \"studentBatch\": self.studentBatch,\n",
    "            \"studentRoll\": self.studentRoll\n",
    "        }\n",
    "        return student"
   ]
  },
  {
   "attachments": {},
   "cell_type": "markdown",
   "metadata": {},
   "source": [
    "data loading in dataframe"
   ]
  },
  {
   "cell_type": "code",
   "execution_count": 39,
   "metadata": {},
   "outputs": [],
   "source": [
    "df_student = pd.read_json('./student.json')"
   ]
  },
  {
   "attachments": {},
   "cell_type": "markdown",
   "metadata": {},
   "source": [
    "Create Record"
   ]
  },
  {
   "cell_type": "code",
   "execution_count": 34,
   "metadata": {},
   "outputs": [],
   "source": [
    "# auto generat id\n",
    "def generateId() -> int:\n",
    "    '''return a unique id increment from existing one'''\n",
    "    id = 0\n",
    "    try:\n",
    "        with open(pathId, \"r\") as file:\n",
    "            id = int(file.read())\n",
    "    except FileNotFoundError:\n",
    "        print('File not found error')\n",
    "    try:\n",
    "        with open(pathId, \"w\") as file:\n",
    "            newId = id+1\n",
    "            file.write(str(newId))\n",
    "    except FileNotFoundError:\n",
    "        print('File not found error')\n",
    "\n",
    "    return id"
   ]
  },
  {
   "cell_type": "code",
   "execution_count": 1,
   "metadata": {},
   "outputs": [
    {
     "ename": "NameError",
     "evalue": "name 'Student' is not defined",
     "output_type": "error",
     "traceback": [
      "\u001b[1;31m---------------------------------------------------------------------------\u001b[0m",
      "\u001b[1;31mNameError\u001b[0m                                 Traceback (most recent call last)",
      "Cell \u001b[1;32mIn[1], line 2\u001b[0m\n\u001b[0;32m      1\u001b[0m \u001b[39m# append to json fie\u001b[39;00m\n\u001b[1;32m----> 2\u001b[0m \u001b[39mdef\u001b[39;00m \u001b[39mappendJsonFile\u001b[39m(data: Student):\n\u001b[0;32m      3\u001b[0m    \u001b[39m'''append json data to existing file'''\u001b[39;00m\n\u001b[0;32m      4\u001b[0m    \u001b[39m# get data from file\u001b[39;00m\n",
      "\u001b[1;31mNameError\u001b[0m: name 'Student' is not defined"
     ]
    }
   ],
   "source": [
    " # append to json fie\n",
    "def appendJsonFile(data: Student):\n",
    "    '''append json data to existing file'''\n",
    "    # get data from file\n",
    "    with open(pathJson, \"r\") as file:\n",
    "        oldData = json.load(file)\n",
    "        \n",
    "    oldData.append(data.__str__())\n",
    "    # write the data\n",
    "    with open(pathJson, \"w\") as file:\n",
    "        json.dump(oldData, file, indent=2)"
   ]
  },
  {
   "cell_type": "code",
   "execution_count": 47,
   "metadata": {},
   "outputs": [],
   "source": [
    "def saveStudent(data: Student):\n",
    "        '''save a new Student Record'''\n",
    "        data.studentId = generateId()\n",
    "        appendJsonFile(data)    \n",
    "saveStudent(Student('Usama','Amjad','10/03/2002','Gujranwala','+92334567712','Male','C','20','20021519-139'))"
   ]
  },
  {
   "attachments": {},
   "cell_type": "markdown",
   "metadata": {},
   "source": [
    "View Records"
   ]
  },
  {
   "cell_type": "code",
   "execution_count": 42,
   "metadata": {},
   "outputs": [
    {
     "name": "stdout",
     "output_type": "stream",
     "text": [
      "   studentId studentName fatherName  studentDob studentAddress  studentPhone  \\\n",
      "0          1        Umar      Waris  10/03/2002     Gujranwala   92334567712   \n",
      "\n",
      "  studentGender studentSection  studentBatch   studentRoll  \n",
      "0          Male              C            20  20021519-139  \n"
     ]
    }
   ],
   "source": [
    "def findRecord(findBy, value):\n",
    "        try:\n",
    "            print(df_student.loc[df_student[findBy] == value])\n",
    "        except ValueError:\n",
    "            print(f'No student registered with {findBy}: {value}')\n",
    "\n",
    "id = 2\n",
    "findRecord('studentName','Umar') "
   ]
  },
  {
   "attachments": {},
   "cell_type": "markdown",
   "metadata": {},
   "source": [
    "UPDATE Record"
   ]
  },
  {
   "cell_type": "code",
   "execution_count": 43,
   "metadata": {},
   "outputs": [],
   "source": [
    "def updateRecord(findBy, id, newValue):\n",
    "        with open(pathJson, \"r\") as fileData:\n",
    "            oldData = json.load(fileData)\n",
    "            for data in oldData:\n",
    "                if (data[\"studentId\"] == id):\n",
    "                    data[findBy] = newValue\n",
    "                    break\n",
    "        with open(pathJson, \"w\") as file:\n",
    "            json.dump(oldData, file, indent=2)\n",
    "updateRecord('studentName',1,'Ahmad')"
   ]
  },
  {
   "attachments": {},
   "cell_type": "markdown",
   "metadata": {},
   "source": [
    "UPDATE ALL"
   ]
  },
  {
   "cell_type": "code",
   "execution_count": 44,
   "metadata": {},
   "outputs": [
    {
     "name": "stdout",
     "output_type": "stream",
     "text": [
      "2\n"
     ]
    }
   ],
   "source": [
    "new_list = []\n",
    "def updateAll(student:Student, id):\n",
    "        with open(pathJson, \"r\") as fileData:\n",
    "            oldData = json.load(fileData)\n",
    "            for data in oldData:\n",
    "                if (data[\"studentId\"] == id):\n",
    "                    data = student.__str__()\n",
    "                    data['studentId'] = id\n",
    "                    print(data['studentId'])\n",
    "                    new_list.append(data)\n",
    "                else:\n",
    "                    new_list.append(data)\n",
    "        with open(pathJson, \"w\") as file:\n",
    "            json.dump(new_list, file, indent=2)\n",
    "updateAll(Student('Abdul Rehman','Nadeem','30/10/2001','Ghakhar','+923341047072','Male','C','20','20021519-101'),2)"
   ]
  },
  {
   "attachments": {},
   "cell_type": "markdown",
   "metadata": {},
   "source": [
    "DELETE RECORD"
   ]
  },
  {
   "cell_type": "code",
   "execution_count": 45,
   "metadata": {},
   "outputs": [],
   "source": [
    "def deleteRecord(deleteBy, value):\n",
    "        with open(pathJson, \"r\") as fileData:\n",
    "            oldData = json.load(fileData)\n",
    "            for data in oldData:\n",
    "                if (data[deleteBy] == value):\n",
    "                    oldData.remove(data)\n",
    "                    break\n",
    "        with open(pathJson, \"w\") as file:\n",
    "            json.dump(oldData, file, indent=2)\n",
    "deleteRecord('studentId',1)"
   ]
  },
  {
   "cell_type": "code",
   "execution_count": 52,
   "metadata": {},
   "outputs": [
    {
     "name": "stdout",
     "output_type": "stream",
     "text": [
      "<_io.TextIOWrapper name='./student.json' mode='r' encoding='cp1252'>\n"
     ]
    },
    {
     "data": {
      "text/plain": [
       "[{'studentId': 2,\n",
       "  'studentName': 'Abdul Rehman',\n",
       "  'fatherName': 'Nadeem',\n",
       "  'studentDob': '30/10/2001',\n",
       "  'studentAddress': 'Ghakhar',\n",
       "  'studentPhone': '+923341047072',\n",
       "  'studentGender': 'Male',\n",
       "  'studentSection': 'C',\n",
       "  'studentBatch': '20',\n",
       "  'studentRoll': '20021519-101'},\n",
       " {'studentId': 3,\n",
       "  'studentName': 'Khizar',\n",
       "  'fatherName': 'Hayat',\n",
       "  'studentDob': '10/03/2002',\n",
       "  'studentAddress': 'Gujranwala',\n",
       "  'studentPhone': '+92334567712',\n",
       "  'studentGender': 'Male',\n",
       "  'studentSection': 'C',\n",
       "  'studentBatch': '20',\n",
       "  'studentRoll': '20021519-139'},\n",
       " {'studentId': 4,\n",
       "  'studentName': 'Usama',\n",
       "  'fatherName': 'Amjad',\n",
       "  'studentDob': '10/03/2002',\n",
       "  'studentAddress': 'Gujranwala',\n",
       "  'studentPhone': '+92334567712',\n",
       "  'studentGender': 'Male',\n",
       "  'studentSection': 'C',\n",
       "  'studentBatch': '20',\n",
       "  'studentRoll': '20021519-139'}]"
      ]
     },
     "execution_count": 52,
     "metadata": {},
     "output_type": "execute_result"
    }
   ],
   "source": [
    "with open(pathJson)as filedata:\n",
    "    oldData = json.load(filedata)\n",
    "    print(filedata)\n",
    "oldData"
   ]
  }
 ],
 "metadata": {
  "kernelspec": {
   "display_name": "Python 3",
   "language": "python",
   "name": "python3"
  },
  "language_info": {
   "codemirror_mode": {
    "name": "ipython",
    "version": 3
   },
   "file_extension": ".py",
   "mimetype": "text/x-python",
   "name": "python",
   "nbconvert_exporter": "python",
   "pygments_lexer": "ipython3",
   "version": "3.11.1"
  },
  "orig_nbformat": 4,
  "vscode": {
   "interpreter": {
    "hash": "98f695c938581e5a1ca220556a862bb7bb81b179544d4b01b718a9c0b2a8c66a"
   }
  }
 },
 "nbformat": 4,
 "nbformat_minor": 2
}
