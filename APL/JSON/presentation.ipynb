{
 "cells": [
  {
   "attachments": {},
   "cell_type": "markdown",
   "metadata": {},
   "source": [
    "IMPORTS"
   ]
  },
  {
   "cell_type": "code",
   "execution_count": 10,
   "metadata": {},
   "outputs": [],
   "source": [
    "import json \n",
    "import pandas as pd\n",
    "import sys\n",
    "import os"
   ]
  },
  {
   "attachments": {},
   "cell_type": "markdown",
   "metadata": {},
   "source": [
    "functions to create files "
   ]
  },
  {
   "cell_type": "code",
   "execution_count": 26,
   "metadata": {},
   "outputs": [],
   "source": [
    " pathId = './id.txt'\n",
    " pathJson = './student.json'"
   ]
  },
  {
   "cell_type": "code",
   "execution_count": 6,
   "metadata": {},
   "outputs": [],
   "source": [
    "\n",
    "def createIdFile():\n",
    "    if os.path.exists(pathId):\n",
    "        print('exist')\n",
    "    else:\n",
    "        with open(pathId, \"w\") as file:\n",
    "            file.write(\"1\")\n",
    "        \n",
    "\n",
    "# create JsonFile\n",
    "\n",
    "def createJsonFile():\n",
    "    '''Create a empty json file if not exists and write a []'''\n",
    "    data = []\n",
    "    if os.path.exists(pathJson):\n",
    "        print('exist')\n",
    "    else:\n",
    "        with open(pathJson, \"w\") as file:\n",
    "            json.dump(data, file)\n",
    "createIdFile()  # id file creation one time\n",
    "createJsonFile()"
   ]
  },
  {
   "attachments": {},
   "cell_type": "markdown",
   "metadata": {},
   "source": [
    "Student Class  which returns  json (dict type )  as a tostring method"
   ]
  },
  {
   "cell_type": "code",
   "execution_count": 2,
   "metadata": {},
   "outputs": [],
   "source": [
    "class Student:\n",
    "\n",
    "    def __init__(self, studentName, fatherName, studentDob, studentAddress, studentPhone, studentGender, studentSection, studentBatch, studentRoll):\n",
    "        self.studentId = 0\n",
    "        self.studentName = studentName\n",
    "        self.fatherName = fatherName\n",
    "        self.studentDob = studentDob\n",
    "        self.studentAddress = studentAddress\n",
    "        self.studentPhone = studentPhone\n",
    "        self.studentGender = studentGender\n",
    "        self.studentSection = studentSection\n",
    "        self.studentBatch = studentBatch\n",
    "        self.studentRoll = studentRoll\n",
    "\n",
    "    def __str__(self) -> dict:\n",
    "        student = {\n",
    "            \"studentId\": self.studentId,\n",
    "            \"studentName\": self.studentName,\n",
    "            \"fatherName\": self.fatherName,\n",
    "            \"studentDob\": self.studentDob,\n",
    "            \"studentAddress\": self.studentAddress,\n",
    "            \"studentPhone\": self.studentPhone,\n",
    "            \"studentGender\": self.studentGender,\n",
    "            \"studentSection\": self.studentSection,\n",
    "            \"studentBatch\": self.studentBatch,\n",
    "            \"studentRoll\": self.studentRoll\n",
    "        }\n",
    "        return student"
   ]
  },
  {
   "attachments": {},
   "cell_type": "markdown",
   "metadata": {},
   "source": [
    "data loading in dataframe"
   ]
  },
  {
   "cell_type": "code",
   "execution_count": 17,
   "metadata": {},
   "outputs": [],
   "source": [
    "df_student = pd.read_json('./student.json')"
   ]
  },
  {
   "attachments": {},
   "cell_type": "markdown",
   "metadata": {},
   "source": [
    "View Records"
   ]
  },
  {
   "cell_type": "code",
   "execution_count": 14,
   "metadata": {},
   "outputs": [
    {
     "name": "stdout",
     "output_type": "stream",
     "text": [
      "   studentId studentName fatherName  studentDob studentAddress  studentPhone  \\\n",
      "0          1        Umar      waris  10/20/2002     gujranwala    3345665765   \n",
      "\n",
      "  studentGender studentSection  studentBatch  studentRoll  \n",
      "0          male              C            20          139  \n"
     ]
    }
   ],
   "source": [
    "def findRecord(findBy, value):\n",
    "        try:\n",
    "            print(df_student.loc[df_student[findBy] == value])\n",
    "        except ValueError:\n",
    "            print(f'No student registered with {findBy}: {value}')\n",
    "\n",
    "id = 1\n",
    "findRecord('studentId',id) "
   ]
  },
  {
   "attachments": {},
   "cell_type": "markdown",
   "metadata": {},
   "source": [
    "UPDATE Record"
   ]
  },
  {
   "cell_type": "code",
   "execution_count": 27,
   "metadata": {},
   "outputs": [],
   "source": [
    "def updateRecord(findBy, id, newValue):\n",
    "        with open(pathJson, \"r\") as fileData:\n",
    "            oldData = json.load(fileData)\n",
    "            for data in oldData:\n",
    "                if (data[\"studentId\"] == id):\n",
    "                    data[findBy] = newValue\n",
    "                    break\n",
    "        with open(pathJson, \"w\") as file:\n",
    "            json.dump(oldData, file, indent=2)\n",
    "updateRecord('studentName',1,'Ahmad')"
   ]
  },
  {
   "attachments": {},
   "cell_type": "markdown",
   "metadata": {},
   "source": [
    "UPDATE ALL"
   ]
  },
  {
   "cell_type": "code",
   "execution_count": 42,
   "metadata": {},
   "outputs": [
    {
     "name": "stdout",
     "output_type": "stream",
     "text": [
      "1\n"
     ]
    }
   ],
   "source": [
    "new_list = []\n",
    "def updateAll(student:Student, id):\n",
    "        with open(pathJson, \"r\") as fileData:\n",
    "            oldData = json.load(fileData)\n",
    "            for data in oldData:\n",
    "                if (data[\"studentId\"] == id):\n",
    "                    data = student.__str__()\n",
    "                    data['studentId'] = id\n",
    "                    print(data['studentId'])\n",
    "                    new_list.append(data)\n",
    "                else:\n",
    "                    new_list.append(data)\n",
    "        with open(pathJson, \"w\") as file:\n",
    "            json.dump(new_list, file, indent=2)\n",
    "updateAll(Student('Abdul Rehman','Nadeem','30/10/2001','Ghakhar','+923341047072','Male','C','20','20021519-101'),1)"
   ]
  },
  {
   "attachments": {},
   "cell_type": "markdown",
   "metadata": {},
   "source": [
    "DELETE RECORD"
   ]
  },
  {
   "cell_type": "code",
   "execution_count": 43,
   "metadata": {},
   "outputs": [],
   "source": [
    "def deleteRecord(deleteBy, value):\n",
    "        with open(pathJson, \"r\") as fileData:\n",
    "            oldData = json.load(fileData)\n",
    "            for data in oldData:\n",
    "                if (data[deleteBy] == value):\n",
    "                    oldData.remove(data)\n",
    "                    break\n",
    "        with open(pathJson, \"w\") as file:\n",
    "            json.dump(oldData, file, indent=2)\n",
    "deleteRecord('studentId',1)"
   ]
  }
 ],
 "metadata": {
  "kernelspec": {
   "display_name": "Python 3",
   "language": "python",
   "name": "python3"
  },
  "language_info": {
   "codemirror_mode": {
    "name": "ipython",
    "version": 3
   },
   "file_extension": ".py",
   "mimetype": "text/x-python",
   "name": "python",
   "nbconvert_exporter": "python",
   "pygments_lexer": "ipython3",
   "version": "3.11.1"
  },
  "orig_nbformat": 4,
  "vscode": {
   "interpreter": {
    "hash": "98f695c938581e5a1ca220556a862bb7bb81b179544d4b01b718a9c0b2a8c66a"
   }
  }
 },
 "nbformat": 4,
 "nbformat_minor": 2
}
