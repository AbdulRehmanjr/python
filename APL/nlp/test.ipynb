{
 "cells": [
  {
   "cell_type": "code",
   "execution_count": 1,
   "metadata": {},
   "outputs": [],
   "source": [
    "from  language_tool_python  import LanguageTool\n",
    "from gingerit.gingerit import GingerIt"
   ]
  },
  {
   "cell_type": "code",
   "execution_count": 2,
   "metadata": {},
   "outputs": [],
   "source": [
    "from nltk.tag import pos_tag\n",
    "from nltk.tokenize import word_tokenize"
   ]
  },
  {
   "cell_type": "code",
   "execution_count": 3,
   "metadata": {},
   "outputs": [],
   "source": [
    "from nltk.stem.porter import PorterStemmer"
   ]
  },
  {
   "cell_type": "code",
   "execution_count": 4,
   "metadata": {},
   "outputs": [],
   "source": [
    "text = \"i am giving presentation.\""
   ]
  },
  {
   "cell_type": "code",
   "execution_count": 5,
   "metadata": {},
   "outputs": [
    {
     "name": "stdout",
     "output_type": "stream",
     "text": [
      "['i', 'am', 'giving', 'presentation', '.']\n"
     ]
    },
    {
     "data": {
      "text/plain": [
       "[('i', 'NN'),\n",
       " ('am', 'VBP'),\n",
       " ('giving', 'VBG'),\n",
       " ('presentation', 'NN'),\n",
       " ('.', '.')]"
      ]
     },
     "execution_count": 5,
     "metadata": {},
     "output_type": "execute_result"
    }
   ],
   "source": [
    "tokens = word_tokenize(text)\n",
    "print(tokens)\n",
    "pos_tag(tokens)"
   ]
  },
  {
   "cell_type": "code",
   "execution_count": 6,
   "metadata": {},
   "outputs": [],
   "source": [
    "tool = LanguageTool('en-US')"
   ]
  },
  {
   "cell_type": "code",
   "execution_count": 7,
   "metadata": {},
   "outputs": [
    {
     "ename": "NameError",
     "evalue": "name 'nlp' is not defined",
     "output_type": "error",
     "traceback": [
      "\u001b[1;31m---------------------------------------------------------------------------\u001b[0m",
      "\u001b[1;31mNameError\u001b[0m                                 Traceback (most recent call last)",
      "Cell \u001b[1;32mIn[7], line 1\u001b[0m\n\u001b[1;32m----> 1\u001b[0m doc \u001b[39m=\u001b[39m nlp(text)\n\u001b[0;32m      2\u001b[0m \u001b[39m# lemmatized = ' '.join([token.lemma_ if token.pos_ == 'VERB' else token.text for token in doc])\u001b[39;00m\n\u001b[0;32m      3\u001b[0m doc\n",
      "\u001b[1;31mNameError\u001b[0m: name 'nlp' is not defined"
     ]
    }
   ],
   "source": [
    "doc = nlp(text)\n",
    "# lemmatized = ' '.join([token.lemma_ if token.pos_ == 'VERB' else token.text for token in doc])\n",
    "doc\n",
    "str(doc)"
   ]
  },
  {
   "cell_type": "code",
   "execution_count": null,
   "metadata": {},
   "outputs": [
    {
     "data": {
      "text/plain": [
       "{'text': 'I m not good at engishs.',\n",
       " 'result': \"I'm not good at anguish.\",\n",
       " 'corrections': [{'start': 16,\n",
       "   'text': 'engishs',\n",
       "   'correct': 'anguish',\n",
       "   'definition': 'extreme mental distress'},\n",
       "  {'start': 0, 'text': 'I m', 'correct': \"I'm\", 'definition': None}]}"
      ]
     },
     "execution_count": 87,
     "metadata": {},
     "output_type": "execute_result"
    }
   ],
   "source": [
    "ginger = GingerIt()\n",
    "g_text = ginger.parse(text,True)\n",
    "g_text\n",
    "# tool.enable_spellchecking()\n",
    "# checking = tool.check(text)\n",
    "# print(checking)\n",
    "# correct = tool.correct(text)\n",
    "# correct"
   ]
  },
  {
   "cell_type": "code",
   "execution_count": null,
   "metadata": {},
   "outputs": [
    {
     "data": {
      "text/plain": [
       "['are', 'yo', 'fine']"
      ]
     },
     "execution_count": 22,
     "metadata": {},
     "output_type": "execute_result"
    }
   ],
   "source": [
    "stemmer = PorterStemmer()\n",
    "word_tokens = word_tokenize(g_text['result'])\n",
    "stems = [stemmer.stem(word) for word in word_tokens]\n",
    "stems"
   ]
  },
  {
   "cell_type": "code",
   "execution_count": 8,
   "metadata": {},
   "outputs": [],
   "source": [
    "from nltk.sentiment.vader import SentimentIntensityAnalyzer\n",
    "# nltk.download('vader_lexicon')\n"
   ]
  },
  {
   "cell_type": "code",
   "execution_count": null,
   "metadata": {},
   "outputs": [
    {
     "name": "stdout",
     "output_type": "stream",
     "text": [
      "happy\n"
     ]
    }
   ],
   "source": [
    "def detect_emotion(sentence):\n",
    "    # Initialize the sentiment analyzer\n",
    "    sia = SentimentIntensityAnalyzer()\n",
    "    # Get the polarity scores for the sentence\n",
    "    scores = sia.polarity_scores(sentence)\n",
    "    # Determine the emotion based on the polarity score\n",
    "    if scores['compound'] >= 0.05:\n",
    "        return 'happy'\n",
    "    elif scores['compound'] <= -0.05:\n",
    "        return 'sad'\n",
    "    else:\n",
    "        return 'neutral'\n",
    "    \n",
    "# Example usage\n",
    "sentence = \"this match is more boring then enjoying in party\"\n",
    "emotion = detect_emotion(sentence)\n",
    "print(emotion)  # Output: 'happy'\n",
    "\n",
    "\n"
   ]
  },
  {
   "cell_type": "code",
   "execution_count": null,
   "metadata": {},
   "outputs": [],
   "source": [
    "from language_tool_python import LanguageTool\n",
    "\n",
    "tool = LanguageTool('en-US')"
   ]
  },
  {
   "cell_type": "code",
   "execution_count": null,
   "metadata": {},
   "outputs": [
    {
     "name": "stdout",
     "output_type": "stream",
     "text": [
      "These is many exmple\n",
      "\n",
      "-------------------\n",
      "\n",
      "This is many example\n"
     ]
    }
   ],
   "source": [
    "\n",
    "\n",
    "text = \"\"\"I goes to the store every Monday. Yesterday, me and him watched a movies together. Its not often that we gets to spend time like that, but it was fun.\"\"\"\n",
    "\n",
    "text2 = \"These is many exmple\"\n",
    "\n",
    "matches = tool.check(text2)\n",
    "\n",
    "corrections = []\n",
    "mistakes = []\n",
    "errorStartPosition = []\n",
    "errorEndPosition = []\n",
    "\n",
    "for match in matches:\n",
    "    # To check if there are any correct replacement available\n",
    "    if len(match.replacements) > 0:\n",
    "        errorStartPosition.append(match.offset)\n",
    "        errorEndPosition.append(match.offset + match.errorLength)\n",
    "        mistakes.append(text[match.offset : match.offset + match.errorLength])\n",
    "        corrections.append(match.replacements[0])\n",
    "\n",
    "# Converting our originaltext into list\n",
    "newText = list(text2)\n",
    "\n",
    "for i in range(len(errorStartPosition)):\n",
    "    for j in range(len(text2)):\n",
    "        newText[errorStartPosition[i]] = corrections[i]\n",
    "        if j > errorStartPosition[i] and j < errorEndPosition[i]:\n",
    "            newText[j] = \"\"\n",
    "\n",
    "# Joining our list to convert to string\n",
    "newText = \"\".join(newText)\n",
    "\n",
    "print(text2)\n",
    "print(\"\\n-------------------\\n\")\n",
    "print(newText)"
   ]
  },
  {
   "cell_type": "code",
   "execution_count": null,
   "metadata": {},
   "outputs": [],
   "source": [
    "from gingerit.gingerit import GingerIt"
   ]
  },
  {
   "cell_type": "code",
   "execution_count": null,
   "metadata": {},
   "outputs": [
    {
     "name": "stdout",
     "output_type": "stream",
     "text": [
      "{'text': 'This are many exmple', 'result': 'This are many examples', 'corrections': [{'start': 14, 'text': 'exmple', 'correct': 'examples', 'definition': 'an item of information that is typical of a class or group'}]}\n"
     ]
    }
   ],
   "source": [
    "t = \"This are many exmple\"\n",
    "corrected_text = GingerIt().parse(t)\n",
    "print(corrected_text)"
   ]
  },
  {
   "attachments": {},
   "cell_type": "markdown",
   "metadata": {},
   "source": [
    "Emotions"
   ]
  },
  {
   "cell_type": "code",
   "execution_count": null,
   "metadata": {},
   "outputs": [],
   "source": [
    "import nltk\n",
    "\n",
    "\n",
    "\n",
    "\n"
   ]
  },
  {
   "cell_type": "code",
   "execution_count": null,
   "metadata": {},
   "outputs": [
    {
     "name": "stdout",
     "output_type": "stream",
     "text": [
      "i Noun, singular or mass\n",
      "am Verb, non-3rd person singular present\n",
      "running Verb, gerund or present participle\n"
     ]
    }
   ],
   "source": [
    "text = \"i am running\"\n",
    "tokens = nltk.word_tokenize(text)\n",
    "\n",
    "# Perform part-of-speech tagging\n",
    "tagged = nltk.pos_tag(tokens)\n",
    "pos_names = {\n",
    "    'CC': 'Coordinating conjunction',\n",
    "    'CD': 'Cardinal number',\n",
    "    'DT': 'Determiner',\n",
    "    'EX': 'Existential there',\n",
    "    'FW': 'Foreign word',\n",
    "    'IN': 'Preposition or subordinating conjunction',\n",
    "    'JJ': 'Adjective',\n",
    "    'JJR': 'Adjective, comparative',\n",
    "    'JJS': 'Adjective, superlative',\n",
    "    'LS': 'List item marker',\n",
    "    'MD': 'Modal',\n",
    "    'NN': 'Noun, singular or mass',\n",
    "    'NNS': 'Noun, plural',\n",
    "    'NNP': 'Proper noun, singular',\n",
    "    'NNPS': 'Proper noun, plural',\n",
    "    'PDT': 'Predeterminer',\n",
    "    'POS': 'Possessive ending',\n",
    "    'PRP': 'Personal pronoun',\n",
    "    'PRP$': 'Possessive pronoun',\n",
    "    'RB': 'Adverb',\n",
    "    'RBR': 'Adverb, comparative',\n",
    "    'RBS': 'Adverb, superlative',\n",
    "    'RP': 'Particle',\n",
    "    'SYM': 'Symbol',\n",
    "    'TO': 'to',\n",
    "    'UH': 'Interjection',\n",
    "    'VB': 'Verb, base form',\n",
    "    'VBD': 'Verb, past tense',\n",
    "    'VBG': 'Verb, gerund or present participle',\n",
    "    'VBN': 'Verb, past participle',\n",
    "    'VBP': 'Verb, non-3rd person singular present',\n",
    "    'VBZ': 'Verb, 3rd person singular present',\n",
    "    'WDT': 'Wh-determiner',\n",
    "    'WP': 'Wh-pronoun',\n",
    "    'WP$': 'Possessive wh-pronoun',\n",
    "    'WRB': 'Wh-adverb'\n",
    "}\n",
    "\n",
    "for word, tag in tagged:\n",
    "    print(word, pos_names.get(tag, tag))"
   ]
  },
  {
   "cell_type": "code",
   "execution_count": 9,
   "metadata": {},
   "outputs": [],
   "source": [
    "from nltk.corpus import wordnet "
   ]
  },
  {
   "cell_type": "code",
   "execution_count": 25,
   "metadata": {},
   "outputs": [
    {
     "name": "stdout",
     "output_type": "stream",
     "text": [
      "[Synset('kite.n.01'), Synset('kite.n.02'), Synset('kite.n.03'), Synset('kite.n.04'), Synset('kite.v.01'), Synset('kite.v.02'), Synset('kite.v.03'), Synset('kite.v.04')]\n"
     ]
    }
   ],
   "source": [
    "syns = wordnet.synsets(\"kite\")\n",
    "print(syns)"
   ]
  },
  {
   "cell_type": "code",
   "execution_count": 28,
   "metadata": {},
   "outputs": [
    {
     "name": "stdout",
     "output_type": "stream",
     "text": [
      "a bank check that has been fraudulently altered to increase its face value\n",
      "\n",
      "Examples of the word in use::\n",
      "[]\n"
     ]
    }
   ],
   "source": [
    "print(syns[0].definition())\n",
    "print(\"\\nExamples of the word in use::\")\n",
    "print(syns[0].examples())"
   ]
  }
 ],
 "metadata": {
  "kernelspec": {
   "display_name": "Python 3",
   "language": "python",
   "name": "python3"
  },
  "language_info": {
   "codemirror_mode": {
    "name": "ipython",
    "version": 3
   },
   "file_extension": ".py",
   "mimetype": "text/x-python",
   "name": "python",
   "nbconvert_exporter": "python",
   "pygments_lexer": "ipython3",
   "version": "3.11.1"
  },
  "orig_nbformat": 4,
  "vscode": {
   "interpreter": {
    "hash": "98f695c938581e5a1ca220556a862bb7bb81b179544d4b01b718a9c0b2a8c66a"
   }
  }
 },
 "nbformat": 4,
 "nbformat_minor": 2
}
