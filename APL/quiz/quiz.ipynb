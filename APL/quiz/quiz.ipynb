{
 "cells": [
  {
   "cell_type": "code",
   "execution_count": 1,
   "metadata": {},
   "outputs": [],
   "source": [
    "import sys\n",
    "from PyQt6 import QtCore,QtGui,QtWidgets\n",
    "from PyQt6.QtWidgets import QToolBar,QLabel,QStatus\n",
    "from PyQt6.QtCore import Qt\n",
    "from random import randint"
   ]
  },
  {
   "cell_type": "code",
   "execution_count": 1,
   "metadata": {},
   "outputs": [
    {
     "ename": "NameError",
     "evalue": "name 'Qlba' is not defined",
     "output_type": "error",
     "traceback": [
      "\u001b[1;31m---------------------------------------------------------------------------\u001b[0m",
      "\u001b[1;31mNameError\u001b[0m                                 Traceback (most recent call last)",
      "Cell \u001b[1;32mIn[1], line 1\u001b[0m\n\u001b[1;32m----> 1\u001b[0m label  \u001b[39m=\u001b[39m Qlba\n",
      "\u001b[1;31mNameError\u001b[0m: name 'Qlba' is not defined"
     ]
    }
   ],
   "source": [
    "label  = QLabel()\n",
    "label.setTool"
   ]
  },
  {
   "cell_type": "code",
   "execution_count": 2,
   "metadata": {},
   "outputs": [
    {
     "ename": "NameError",
     "evalue": "name 'graphic' is not defined",
     "output_type": "error",
     "traceback": [
      "\u001b[1;31m---------------------------------------------------------------------------\u001b[0m",
      "\u001b[1;31mNameError\u001b[0m                                 Traceback (most recent call last)",
      "Cell \u001b[1;32mIn[2], line 3\u001b[0m\n\u001b[0;32m      1\u001b[0m \u001b[39mif\u001b[39;00m \u001b[39m__name__\u001b[39m \u001b[39m==\u001b[39m\u001b[39m'\u001b[39m\u001b[39m__main__\u001b[39m\u001b[39m'\u001b[39m:\n\u001b[0;32m      2\u001b[0m     application \u001b[39m=\u001b[39m QtWidgets\u001b[39m.\u001b[39mQApplication(sys\u001b[39m.\u001b[39margv)\n\u001b[1;32m----> 3\u001b[0m     window \u001b[39m=\u001b[39m graphic()\n\u001b[0;32m      4\u001b[0m     window\u001b[39m.\u001b[39mshow()\n\u001b[0;32m      5\u001b[0m     sys\u001b[39m.\u001b[39mexit(application\u001b[39m.\u001b[39mexec())\n",
      "\u001b[1;31mNameError\u001b[0m: name 'graphic' is not defined"
     ]
    }
   ],
   "source": [
    "if __name__ =='__main__':\n",
    "    application = QtWidgets.QApplication(sys.argv)\n",
    "    window = graphic()\n",
    "    window.show()\n",
    "    sys.exit(application.exec())"
   ]
  }
 ],
 "metadata": {
  "kernelspec": {
   "display_name": "Python 3",
   "language": "python",
   "name": "python3"
  },
  "language_info": {
   "codemirror_mode": {
    "name": "ipython",
    "version": 3
   },
   "file_extension": ".py",
   "mimetype": "text/x-python",
   "name": "python",
   "nbconvert_exporter": "python",
   "pygments_lexer": "ipython3",
   "version": "3.11.1"
  },
  "orig_nbformat": 4
 },
 "nbformat": 4,
 "nbformat_minor": 2
}
