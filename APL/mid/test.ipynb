{
 "cells": [
  {
   "cell_type": "code",
   "execution_count": 1,
   "metadata": {},
   "outputs": [],
   "source": [
    "s = 'xyz'\n",
    "s_list = list(s)"
   ]
  },
  {
   "cell_type": "code",
   "execution_count": 2,
   "metadata": {},
   "outputs": [
    {
     "data": {
      "text/plain": [
       "['x', 'y', 'z']"
      ]
     },
     "execution_count": 2,
     "metadata": {},
     "output_type": "execute_result"
    }
   ],
   "source": [
    "s_list"
   ]
  },
  {
   "cell_type": "code",
   "execution_count": 25,
   "metadata": {},
   "outputs": [
    {
     "data": {
      "text/plain": [
       "18"
      ]
     },
     "execution_count": 25,
     "metadata": {},
     "output_type": "execute_result"
    }
   ],
   "source": [
    "outer = 27\n",
    "inner = 18\n",
    "inner_most = 3\n",
    "p = []\n",
    "inner"
   ]
  },
  {
   "cell_type": "code",
   "execution_count": 27,
   "metadata": {},
   "outputs": [
    {
     "data": {
      "text/plain": [
       "{('x', 'x', 'x'),\n",
       " ('x', 'x', 'y'),\n",
       " ('x', 'x', 'z'),\n",
       " ('x', 'y', 'x'),\n",
       " ('x', 'y', 'y'),\n",
       " ('x', 'y', 'z'),\n",
       " ('y', 'x', 'x'),\n",
       " ('y', 'x', 'y'),\n",
       " ('y', 'x', 'z'),\n",
       " ('y', 'y', 'x'),\n",
       " ('y', 'y', 'y'),\n",
       " ('y', 'y', 'z'),\n",
       " ('z', 'x', 'x'),\n",
       " ('z', 'x', 'y'),\n",
       " ('z', 'x', 'z'),\n",
       " ('z', 'y', 'x'),\n",
       " ('z', 'y', 'y'),\n",
       " ('z', 'y', 'z')}"
      ]
     },
     "execution_count": 27,
     "metadata": {},
     "output_type": "execute_result"
    }
   ],
   "source": [
    "for i in range(0,outer):\n",
    "    # print(s[i%3],end=\" \")\n",
    "    for j in range(0,inner):\n",
    "        # print(s[j%2],end=\" \")\n",
    "        for k in range(0,inner_most):\n",
    "            t = s[i%3],s[j%2],s[k]\n",
    "            p.append(t)\n",
    "            # print(s[k],end=' ')\n",
    "set(p)"
   ]
  }
 ],
 "metadata": {
  "kernelspec": {
   "display_name": "Python 3",
   "language": "python",
   "name": "python3"
  },
  "language_info": {
   "codemirror_mode": {
    "name": "ipython",
    "version": 3
   },
   "file_extension": ".py",
   "mimetype": "text/x-python",
   "name": "python",
   "nbconvert_exporter": "python",
   "pygments_lexer": "ipython3",
   "version": "3.11.1"
  },
  "orig_nbformat": 4,
  "vscode": {
   "interpreter": {
    "hash": "98f695c938581e5a1ca220556a862bb7bb81b179544d4b01b718a9c0b2a8c66a"
   }
  }
 },
 "nbformat": 4,
 "nbformat_minor": 2
}
