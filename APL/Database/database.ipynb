{
 "cells": [
  {
   "cell_type": "code",
   "execution_count": 3,
   "metadata": {},
   "outputs": [],
   "source": [
    "import mysql.connector"
   ]
  },
  {
   "attachments": {},
   "cell_type": "markdown",
   "metadata": {},
   "source": [
    "db connection"
   ]
  },
  {
   "cell_type": "code",
   "execution_count": 11,
   "metadata": {},
   "outputs": [
    {
     "name": "stdout",
     "output_type": "stream",
     "text": [
      "<mysql.connector.connection_cext.CMySQLConnection object at 0x000001FA6424B410>\n"
     ]
    }
   ],
   "source": [
    "db_connect = mysql.connector.connect(\n",
    "  host=\"localhost\",\n",
    "  user=\"spydev\",\n",
    "  password=\"abdul101\",\n",
    "  database=\"examportal\"\n",
    ")\n",
    "\n",
    "print(db_connect)"
   ]
  },
  {
   "attachments": {},
   "cell_type": "markdown",
   "metadata": {},
   "source": [
    "cursor"
   ]
  },
  {
   "cell_type": "code",
   "execution_count": 12,
   "metadata": {},
   "outputs": [
    {
     "data": {
      "text/plain": [
       "<mysql.connector.cursor_cext.CMySQLCursor at 0x1fa6325bbd0>"
      ]
     },
     "execution_count": 12,
     "metadata": {},
     "output_type": "execute_result"
    }
   ],
   "source": [
    "db_cursor = db_connect.cursor()\n",
    "db_cursor"
   ]
  },
  {
   "attachments": {},
   "cell_type": "markdown",
   "metadata": {},
   "source": [
    "check tables"
   ]
  },
  {
   "cell_type": "code",
   "execution_count": 13,
   "metadata": {},
   "outputs": [
    {
     "data": {
      "text/plain": [
       "[('categorytable',),\n",
       " ('questiontable',),\n",
       " ('quiztable',),\n",
       " ('roletable',),\n",
       " ('usertable',)]"
      ]
     },
     "execution_count": 13,
     "metadata": {},
     "output_type": "execute_result"
    }
   ],
   "source": [
    "db_cursor.execute(\"show tables\")\n",
    "db_cursor.fetchall()"
   ]
  },
  {
   "attachments": {},
   "cell_type": "markdown",
   "metadata": {},
   "source": [
    "fetching data from table"
   ]
  },
  {
   "cell_type": "code",
   "execution_count": 18,
   "metadata": {},
   "outputs": [
    {
     "data": {
      "text/plain": [
       "[(1,\n",
       "  1,\n",
       "  'beginer',\n",
       "  0,\n",
       "  '5',\n",
       "  'first phycics',\n",
       "  10,\n",
       "  1,\n",
       "  1,\n",
       "  'basics pyhsics',\n",
       "  'Physics'),\n",
       " (2,\n",
       "  1,\n",
       "  'begiener 2\\n',\n",
       "  10,\n",
       "  '5',\n",
       "  'phyics Second',\n",
       "  10,\n",
       "  1,\n",
       "  1,\n",
       "  'basics pyhsics',\n",
       "  'Physics'),\n",
       " (3, 1, None, 2, '5', 'first quiz', 10, 2, 2, 'URDU IS OUR ', 'Urdu')]"
      ]
     },
     "execution_count": 18,
     "metadata": {},
     "output_type": "execute_result"
    }
   ],
   "source": [
    "db_cursor.execute(\"select * from quiztable as q inner join categorytable as c on q.category_category_id = c.category_id\")\n",
    "\n",
    "db_cursor.fetchall()"
   ]
  },
  {
   "attachments": {},
   "cell_type": "markdown",
   "metadata": {},
   "source": [
    "info table"
   ]
  },
  {
   "cell_type": "code",
   "execution_count": 21,
   "metadata": {},
   "outputs": [
    {
     "data": {
      "text/plain": [
       "[('quiz_id', b'bigint', 'NO', 'PRI', None, 'auto_increment'),\n",
       " ('active', b'bit(1)', 'NO', '', None, ''),\n",
       " ('description', b'varchar(5000)', 'YES', '', None, ''),\n",
       " ('number_of_questions', b'int', 'NO', '', None, ''),\n",
       " ('time', b'varchar(255)', 'YES', '', None, ''),\n",
       " ('title', b'varchar(255)', 'YES', '', None, ''),\n",
       " ('total_marks', b'int', 'NO', '', None, ''),\n",
       " ('category_category_id', b'bigint', 'YES', 'MUL', None, '')]"
      ]
     },
     "execution_count": 21,
     "metadata": {},
     "output_type": "execute_result"
    }
   ],
   "source": [
    "db_cursor.execute(\"describe quiztable\")\n",
    "\n",
    "db_cursor.fetchall()"
   ]
  },
  {
   "attachments": {},
   "cell_type": "markdown",
   "metadata": {},
   "source": [
    "insert"
   ]
  },
  {
   "cell_type": "code",
   "execution_count": 24,
   "metadata": {},
   "outputs": [
    {
     "name": "stdout",
     "output_type": "stream",
     "text": [
      "1 record inserted.\n"
     ]
    }
   ],
   "source": [
    "query = \"INSERT INTO roletable (role_name) VALUES (%s)\"\n",
    "value = [\"Tester\"]\n",
    "\n",
    "db_cursor.execute(query, value)\n",
    "\n",
    "db_connect.commit()\n",
    "\n",
    "print(db_cursor.rowcount, \"record inserted.\")"
   ]
  },
  {
   "attachments": {},
   "cell_type": "markdown",
   "metadata": {},
   "source": [
    "update"
   ]
  },
  {
   "cell_type": "code",
   "execution_count": null,
   "metadata": {},
   "outputs": [],
   "source": [
    "query = \"INSERT INTO roletable (role_name) VALUES (%s)\"\n",
    "value = [\"Tester\"]\n",
    "\n",
    "db_cursor.execute(query, value)\n",
    "\n",
    "'''UPDATE table_name\n",
    "SET column1 = value1, column2 = value2, ...\n",
    "WHERE condition;'''"
   ]
  }
 ],
 "metadata": {
  "kernelspec": {
   "display_name": "Python 3",
   "language": "python",
   "name": "python3"
  },
  "language_info": {
   "codemirror_mode": {
    "name": "ipython",
    "version": 3
   },
   "file_extension": ".py",
   "mimetype": "text/x-python",
   "name": "python",
   "nbconvert_exporter": "python",
   "pygments_lexer": "ipython3",
   "version": "3.11.1"
  },
  "orig_nbformat": 4
 },
 "nbformat": 4,
 "nbformat_minor": 2
}
