{
 "cells": [
  {
   "cell_type": "code",
   "execution_count": 4,
   "metadata": {},
   "outputs": [],
   "source": [
    "import tabulate"
   ]
  },
  {
   "cell_type": "code",
   "execution_count": null,
   "metadata": {},
   "outputs": [],
   "source": [
    "list = [1,2,3,4,5,6,7,8,9,10]\n",
    "for number in list:\n",
    "    print(number,end=\" \")\n",
    "else:\n",
    "    print('else')    "
   ]
  },
  {
   "cell_type": "markdown",
   "metadata": {},
   "source": [
    "String working\n",
    "escape sequence is one character \\n is one not  \\ and n separate \n"
   ]
  },
  {
   "cell_type": "code",
   "execution_count": null,
   "metadata": {},
   "outputs": [],
   "source": [
    "name = 'intro to python'\n",
    "empty=''\n",
    "special ='1\\n2'\n",
    "print(len(special))\n"
   ]
  },
  {
   "cell_type": "markdown",
   "metadata": {},
   "source": [
    "Concatenate and Repeat"
   ]
  },
  {
   "cell_type": "code",
   "execution_count": 30,
   "metadata": {},
   "outputs": [
    {
     "name": "stdout",
     "output_type": "stream",
     "text": [
      "intro to pythonintro to pythonintro to pythonintro to pythonintro to python\n",
      "n\n",
      "int\n",
      "tro to python\n",
      "int\n",
      "intro to python\n",
      "intro to python\n"
     ]
    }
   ],
   "source": [
    "print(name*5)\n",
    "print(name[-1])\n",
    "#print(name[50])\n",
    "print(name[0:3])\n",
    "print(name[2:])\n",
    "print(name[:3])\n",
    "print(name[:])\n",
    "print(name[0:len(name)])"
   ]
  },
  {
   "cell_type": "markdown",
   "metadata": {},
   "source": [
    "Tuples"
   ]
  },
  {
   "cell_type": "code",
   "execution_count": 34,
   "metadata": {},
   "outputs": [
    {
     "name": "stdout",
     "output_type": "stream",
     "text": [
      "('abc', 101, 'okay')\n"
     ]
    },
    {
     "data": {
      "text/plain": [
       "('abc', 101, 'okay', 'abc', 101, 'okay')"
      ]
     },
     "execution_count": 34,
     "metadata": {},
     "output_type": "execute_result"
    }
   ],
   "source": [
    "t = 'abc',101,'okay'\n",
    "print(t)\n",
    "type(t)\n",
    "2*t"
   ]
  },
  {
   "cell_type": "markdown",
   "metadata": {},
   "source": [
    "unpack"
   ]
  },
  {
   "cell_type": "code",
   "execution_count": 43,
   "metadata": {},
   "outputs": [
    {
     "data": {
      "text/plain": [
       "'Amey'"
      ]
     },
     "execution_count": 43,
     "metadata": {},
     "output_type": "execute_result"
    }
   ],
   "source": [
    "course = 'Python','Amey',101\n",
    "course\n",
    "language,name,roll= course\n",
    "name"
   ]
  },
  {
   "cell_type": "markdown",
   "metadata": {},
   "source": [
    "List"
   ]
  },
  {
   "cell_type": "code",
   "execution_count": 71,
   "metadata": {},
   "outputs": [
    {
     "name": "stdout",
     "output_type": "stream",
     "text": [
      "<class 'list'>\n"
     ]
    },
    {
     "data": {
      "text/plain": [
       "[10, 5, 5, 4, 4, 3, 3, 2, 2, 1, 1]"
      ]
     },
     "execution_count": 71,
     "metadata": {},
     "output_type": "execute_result"
    }
   ],
   "source": [
    "list = [1,2,3,4,5]\n",
    "print(type(list))\n",
    "3*list\n",
    "list.append(10)\n",
    "list.extend(list)\n",
    "list.insert(0,10)\n",
    "list.pop()\n",
    "list.pop(0)\n",
    "list.index(2)\n",
    "list.count(10)\n",
    "list.sort()\n",
    "list.reverse()\n",
    "list"
   ]
  }
 ],
 "metadata": {
  "kernelspec": {
   "display_name": "Python 3.11.0 64-bit",
   "language": "python",
   "name": "python3"
  },
  "language_info": {
   "codemirror_mode": {
    "name": "ipython",
    "version": 3
   },
   "file_extension": ".py",
   "mimetype": "text/x-python",
   "name": "python",
   "nbconvert_exporter": "python",
   "pygments_lexer": "ipython3",
   "version": "3.11.0"
  },
  "orig_nbformat": 4,
  "vscode": {
   "interpreter": {
    "hash": "dc017eb0198d48429599d31fc26885ea27a0b6b8c2c6436be278931ddb7db84f"
   }
  }
 },
 "nbformat": 4,
 "nbformat_minor": 2
}
